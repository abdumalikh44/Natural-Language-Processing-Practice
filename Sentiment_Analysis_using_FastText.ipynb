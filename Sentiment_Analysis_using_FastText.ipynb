{
  "nbformat": 4,
  "nbformat_minor": 0,
  "metadata": {
    "colab": {
      "provenance": [],
      "authorship_tag": "ABX9TyMKvQa//qtDVYGBhDzR0PRK",
      "include_colab_link": true
    },
    "kernelspec": {
      "name": "python3",
      "display_name": "Python 3"
    },
    "language_info": {
      "name": "python"
    }
  },
  "cells": [
    {
      "cell_type": "markdown",
      "metadata": {
        "id": "view-in-github",
        "colab_type": "text"
      },
      "source": [
        "<a href=\"https://colab.research.google.com/github/abdumalikh44/Natural-Language-Processing-Practice/blob/main/Sentiment_Analysis_using_FastText.ipynb\" target=\"_parent\"><img src=\"https://colab.research.google.com/assets/colab-badge.svg\" alt=\"Open In Colab\"/></a>"
      ]
    },
    {
      "cell_type": "code",
      "source": [
        "!pip install fasttext"
      ],
      "metadata": {
        "colab": {
          "base_uri": "https://localhost:8080/"
        },
        "id": "xYUwYbS3C3IH",
        "outputId": "a6f0bcb3-648b-4764-ce0f-a9e832e1ef32"
      },
      "execution_count": 15,
      "outputs": [
        {
          "output_type": "stream",
          "name": "stdout",
          "text": [
            "Requirement already satisfied: fasttext in /usr/local/lib/python3.10/dist-packages (0.9.2)\n",
            "Requirement already satisfied: pybind11>=2.2 in /usr/local/lib/python3.10/dist-packages (from fasttext) (2.12.0)\n",
            "Requirement already satisfied: setuptools>=0.7.0 in /usr/local/lib/python3.10/dist-packages (from fasttext) (67.7.2)\n",
            "Requirement already satisfied: numpy in /usr/local/lib/python3.10/dist-packages (from fasttext) (1.25.2)\n"
          ]
        }
      ]
    },
    {
      "cell_type": "code",
      "source": [
        "!pip install --upgrade gensim"
      ],
      "metadata": {
        "colab": {
          "base_uri": "https://localhost:8080/"
        },
        "id": "PMlKVTuyEuqF",
        "outputId": "f9bbf237-9846-4632-f169-da36658695cf"
      },
      "execution_count": 16,
      "outputs": [
        {
          "output_type": "stream",
          "name": "stdout",
          "text": [
            "Requirement already satisfied: gensim in /usr/local/lib/python3.10/dist-packages (4.3.2)\n",
            "Requirement already satisfied: numpy>=1.18.5 in /usr/local/lib/python3.10/dist-packages (from gensim) (1.25.2)\n",
            "Requirement already satisfied: scipy>=1.7.0 in /usr/local/lib/python3.10/dist-packages (from gensim) (1.11.4)\n",
            "Requirement already satisfied: smart-open>=1.8.1 in /usr/local/lib/python3.10/dist-packages (from gensim) (6.4.0)\n"
          ]
        }
      ]
    },
    {
      "cell_type": "code",
      "source": [
        "! wget https://dl.fbaipublicfiles.com/fasttext/vectors-crawl/cc.en.300.bin.gz"
      ],
      "metadata": {
        "colab": {
          "base_uri": "https://localhost:8080/"
        },
        "id": "Aefd0A6fEykW",
        "outputId": "5d0aa049-29ad-41b1-bed2-80c44499fc81"
      },
      "execution_count": 3,
      "outputs": [
        {
          "output_type": "stream",
          "name": "stdout",
          "text": [
            "--2024-04-24 12:45:13--  https://dl.fbaipublicfiles.com/fasttext/vectors-crawl/cc.en.300.bin.gz\n",
            "Resolving dl.fbaipublicfiles.com (dl.fbaipublicfiles.com)... 13.35.7.38, 13.35.7.50, 13.35.7.128, ...\n",
            "Connecting to dl.fbaipublicfiles.com (dl.fbaipublicfiles.com)|13.35.7.38|:443... connected.\n",
            "HTTP request sent, awaiting response... 200 OK\n",
            "Length: 4503593528 (4.2G) [application/octet-stream]\n",
            "Saving to: ‘cc.en.300.bin.gz’\n",
            "\n",
            "cc.en.300.bin.gz    100%[===================>]   4.19G   119MB/s    in 49s     \n",
            "\n",
            "2024-04-24 12:46:02 (88.5 MB/s) - ‘cc.en.300.bin.gz’ saved [4503593528/4503593528]\n",
            "\n"
          ]
        }
      ]
    },
    {
      "cell_type": "code",
      "source": [
        "import fasttext"
      ],
      "metadata": {
        "id": "lc2CtGhFECLT"
      },
      "execution_count": 4,
      "outputs": []
    },
    {
      "cell_type": "code",
      "source": [
        "! gunzip cc.en.300.bin.gz"
      ],
      "metadata": {
        "id": "QXJ8UIP1F6HI"
      },
      "execution_count": 9,
      "outputs": []
    },
    {
      "cell_type": "code",
      "execution_count": 10,
      "metadata": {
        "colab": {
          "base_uri": "https://localhost:8080/"
        },
        "id": "cxlni8XbCJns",
        "outputId": "4bcc981f-9112-4dad-a61e-4cde124923b4"
      },
      "outputs": [
        {
          "output_type": "stream",
          "name": "stderr",
          "text": [
            "Warning : `load_model` does not return WordVectorModel or SupervisedModel any more, but a `FastText` object which is very similar.\n"
          ]
        }
      ],
      "source": [
        "fmodel = fasttext.load_model(\"cc.en.300.bin\")"
      ]
    },
    {
      "cell_type": "code",
      "source": [
        "fmodel.get_nearest_neighbors(\"dynasty\")"
      ],
      "metadata": {
        "id": "xZIlCVssEUFB",
        "colab": {
          "base_uri": "https://localhost:8080/"
        },
        "outputId": "e3d21013-b493-436a-e8fa-5658a6962e45"
      },
      "execution_count": 14,
      "outputs": [
        {
          "output_type": "execute_result",
          "data": {
            "text/plain": [
              "[(0.8156211972236633, 'dynasties'),\n",
              " (0.7751300930976868, 'Dynasty'),\n",
              " (0.72049480676651, 'dynastys'),\n",
              " (0.7101949453353882, 'dynastic'),\n",
              " (0.6944060325622559, 'dynasty.'),\n",
              " (0.6773804426193237, 'Dynasties'),\n",
              " (0.6741573810577393, 'dynast'),\n",
              " (0.6674186587333679, 'dynasty.The'),\n",
              " (0.6109431385993958, 'Dynastys'),\n",
              " (0.6002793908119202, 'dinasty')]"
            ]
          },
          "metadata": {},
          "execution_count": 14
        }
      ]
    },
    {
      "cell_type": "code",
      "source": [
        "fmodel.get_subwords('fortnight')"
      ],
      "metadata": {
        "colab": {
          "base_uri": "https://localhost:8080/"
        },
        "id": "rmxtbC269FjZ",
        "outputId": "4010e619-65c1-4f23-c385-e66fc7540813"
      },
      "execution_count": 15,
      "outputs": [
        {
          "output_type": "execute_result",
          "data": {
            "text/plain": [
              "(['fortnight', '<fort', 'fortn', 'ortni', 'rtnig', 'tnigh', 'night', 'ight>'],\n",
              " array([  30647, 2702686, 3194406, 2281865, 2209687, 2339805, 3349473,\n",
              "        3496785]))"
            ]
          },
          "metadata": {},
          "execution_count": 15
        }
      ]
    },
    {
      "cell_type": "code",
      "source": [
        "fmodel.get_analogies('jakarta','bangkok','tokyo',k=10)"
      ],
      "metadata": {
        "colab": {
          "base_uri": "https://localhost:8080/"
        },
        "id": "4m0DTFQA9RcG",
        "outputId": "169d45ac-be8a-47c9-b128-9f5b61ddb89e"
      },
      "execution_count": 16,
      "outputs": [
        {
          "output_type": "execute_result",
          "data": {
            "text/plain": [
              "[(0.5780279040336609, 'tokyo.'),\n",
              " (0.5637882351875305, 'indonesia'),\n",
              " (0.5573720335960388, 'japan'),\n",
              " (0.5262552499771118, 'osaka'),\n",
              " (0.525136411190033, 'yokohama'),\n",
              " (0.525036096572876, 'surabaya'),\n",
              " (0.5186548233032227, 'akihabara'),\n",
              " (0.5145594477653503, 'indonesia.'),\n",
              " (0.5086686611175537, 'Jakarta.'),\n",
              " (0.5025025010108948, 'shibuya')]"
            ]
          },
          "metadata": {},
          "execution_count": 16
        }
      ]
    },
    {
      "cell_type": "markdown",
      "source": [
        "#Dataset"
      ],
      "metadata": {
        "id": "mvQV5j8MKqoj"
      }
    },
    {
      "cell_type": "code",
      "source": [
        "!mkdir -p ~/.kaggle\n",
        "!cp kaggle.json ~/.kaggle/"
      ],
      "metadata": {
        "id": "iwStcd1zHzQN"
      },
      "execution_count": 17,
      "outputs": []
    },
    {
      "cell_type": "code",
      "source": [
        "!kaggle datasets download -d utathya/imdb-review-dataset"
      ],
      "metadata": {
        "colab": {
          "base_uri": "https://localhost:8080/"
        },
        "id": "4c-g9dtJH8W6",
        "outputId": "1a100891-ac38-4e35-e813-1ba5ea6e61e2"
      },
      "execution_count": 18,
      "outputs": [
        {
          "output_type": "stream",
          "name": "stdout",
          "text": [
            "Warning: Your Kaggle API key is readable by other users on this system! To fix this, you can run 'chmod 600 /root/.kaggle/kaggle.json'\n",
            "Downloading imdb-review-dataset.zip to /content\n",
            " 95% 48.0M/50.5M [00:04<00:00, 10.0MB/s]\n",
            "100% 50.5M/50.5M [00:04<00:00, 12.1MB/s]\n"
          ]
        }
      ]
    },
    {
      "cell_type": "code",
      "source": [
        "import zipfile\n",
        "zip_ref = zipfile.ZipFile('/content/imdb-review-dataset.zip', 'r')\n",
        "zip_ref.extractall('/content')\n",
        "zip_ref.close()"
      ],
      "metadata": {
        "id": "sy5ShWY4K2LV"
      },
      "execution_count": 23,
      "outputs": []
    },
    {
      "cell_type": "markdown",
      "source": [
        "#Training Model on own data\n"
      ],
      "metadata": {
        "id": "mqh30sLjIWLP"
      }
    },
    {
      "cell_type": "code",
      "source": [
        "import pandas as pd\n",
        "pd.set_option('display.max_colwidth',0)"
      ],
      "metadata": {
        "id": "yGt-tJK_IP5P"
      },
      "execution_count": 24,
      "outputs": []
    },
    {
      "cell_type": "code",
      "source": [
        "df = pd.read_csv(r\"/content/imdb_master.csv\", encoding=\"ISO-8859-1\")"
      ],
      "metadata": {
        "id": "P160SL0gJxFy"
      },
      "execution_count": 25,
      "outputs": []
    },
    {
      "cell_type": "code",
      "source": [
        "df.head()"
      ],
      "metadata": {
        "colab": {
          "base_uri": "https://localhost:8080/",
          "height": 1000
        },
        "id": "1jYFWJCnLi5p",
        "outputId": "5a03d827-8785-42ef-e66c-1766fae3bebc"
      },
      "execution_count": 29,
      "outputs": [
        {
          "output_type": "execute_result",
          "data": {
            "text/plain": [
              "   Unnamed: 0  type  \\\n",
              "0  0           test   \n",
              "1  1           test   \n",
              "2  2           test   \n",
              "3  3           test   \n",
              "4  4           test   \n",
              "\n",
              "                                                                                                                                                                                                                                                                                                                                                                                                                                                                                                                                                                                                                                                                                                                                                                                                                                                                                                                                                                                                                                                                                                                                                                                                                                                                                                                                                                                                                                                                                                                                                                                                                                                                                                                                      review  \\\n",
              "0  Once again Mr. Costner has dragged out a movie for far longer than necessary. Aside from the terrific sea rescue sequences, of which there are very few I just did not care about any of the characters. Most of us have ghosts in the closet, and Costner's character are realized early on, and then forgotten until much later, by which time I did not care. The character we should really care about is a very cocky, overconfident Ashton Kutcher. The problem is he comes off as kid who thinks he's better than anyone else around him and shows no signs of a cluttered closet. His only obstacle appears to be winning over Costner. Finally when we are well past the half way point of this stinker, Costner tells us all about Kutcher's ghosts. We are told why Kutcher is driven to be the best with no prior inkling or foreshadowing. No magic here, it was all I could do to keep from turning it off an hour in.                                                                                                                                                                                                                                                                                                                                                                                                                                                                                                                                                                                                                                                                                                                                                                                                        \n",
              "1  This is an example of why the majority of action films are the same. Generic and boring, there's really nothing worth watching here. A complete waste of the then barely-tapped talents of Ice-T and Ice Cube, who've each proven many times over that they are capable of acting, and acting well. Don't bother with this one, go see New Jack City, Ricochet or watch New York Undercover for Ice-T, or Boyz n the Hood, Higher Learning or Friday for Ice Cube and see the real deal. Ice-T's horribly cliched dialogue alone makes this film grate at the teeth, and I'm still wondering what the heck Bill Paxton was doing in this film? And why the heck does he always play the exact same character? From Aliens onward, every film I've seen with Bill Paxton has him playing the exact same irritating character, and at least in Aliens his character died, which made it somewhat gratifying...<br /><br />Overall, this is second-rate action trash. There are countless better films to see, and if you really want to see this one, watch Judgement Night, which is practically a carbon copy but has better acting and a better script. The only thing that made this at all worth watching was a decent hand on the camera - the cinematography was almost refreshing, which comes close to making up for the horrible film itself - but not quite. 4/10.                                                                                                                                                                                                                                                                                                                                                                 \n",
              "2  First of all I hate those moronic rappers, who could'nt act if they had a gun pressed against their foreheads. All they do is curse and shoot each other and acting like clichÃ©'e version of gangsters.<br /><br />The movie doesn't take more than five minutes to explain what is going on before we're already at the warehouse There is not a single sympathetic character in this movie, except for the homeless guy, who is also the only one with half a brain.<br /><br />Bill Paxton and William Sadler are both hill billies and Sadlers character is just as much a villain as the gangsters. I did'nt like him right from the start.<br /><br />The movie is filled with pointless violence and Walter Hills specialty: people falling through windows with glass flying everywhere. There is pretty much no plot and it is a big problem when you root for no-one. Everybody dies, except from Paxton and the homeless guy and everybody get what they deserve.<br /><br />The only two black people that can act is the homeless guy and the junkie but they're actors by profession, not annoying ugly brain dead rappers.<br /><br />Stay away from this crap and watch 48 hours 1 and 2 instead. At lest they have characters you care about, a sense of humor and nothing but real actors in the cast.                                                                                                                                                                                                                                                                                                                                                                                                                   \n",
              "3  Not even the Beatles could write songs everyone liked, and although Walter Hill is no mop-top he's second to none when it comes to thought provoking action movies. The nineties came and social platforms were changing in music and film, the emergence of the Rapper turned movie star was in full swing, the acting took a back seat to each man's overpowering regional accent and transparent acting. This was one of the many ice-t movies i saw as a kid and loved, only to watch them later and cringe. Bill Paxton and William Sadler are firemen with basic lives until a burning building tenant about to go up in flames hands over a map with gold implications. I hand it to Walter for quickly and neatly setting up the main characters and location. But i fault everyone involved for turning out Lame-o performances. Ice-t and cube must have been red hot at this time, and while I've enjoyed both their careers as rappers, in my opinion they fell flat in this movie. It's about ninety minutes of one guy ridiculously turning his back on the other guy to the point you find yourself locked in multiple states of disbelief. Now this is a movie, its not a documentary so i wont waste my time recounting all the stupid plot twists in this movie, but there were many, and they led nowhere. I got the feeling watching this that everyone on set was sord of confused and just playing things off the cuff. There are two things i still enjoy about it, one involves a scene with a needle and the other is Sadler's huge 45 pistol. Bottom line this movie is like domino's pizza. Yeah ill eat it if I'm hungry and i don't feel like cooking, But I'm well aware it tastes like crap. 3 stars, meh.   \n",
              "4  Brass pictures (movies is not a fitting word for them) really are somewhat brassy. Their alluring visual qualities are reminiscent of expensive high class TV commercials. But unfortunately Brass pictures are feature films with the pretense of wanting to entertain viewers for over two hours! In this they fail miserably, their undeniable, but rather soft and flabby than steamy, erotic qualities non withstanding.<br /><br />Senso '45 is a remake of a film by Luchino Visconti with the same title and Alida Valli and Farley Granger in the lead. The original tells a story of senseless love and lust in and around Venice during the Italian wars of independence. Brass moved the action from the 19th into the 20th century, 1945 to be exact, so there are Mussolini murals, men in black shirts, German uniforms or the tattered garb of the partisans. But it is just window dressing, the historic context is completely negligible.<br /><br />Anna Galiena plays the attractive aristocratic woman who falls for the amoral SS guy who always puts on too much lipstick. She is an attractive, versatile, well trained Italian actress and clearly above the material. Her wide range of facial expressions (signalling boredom, loathing, delight, fear, hate ... and ecstasy) are the best reason to watch this picture and worth two stars. She endures this basically trashy stuff with an astonishing amount of dignity. I wish some really good parts come along for her. She really deserves it.                                                                                                                                                                                                           \n",
              "\n",
              "  label         file  \n",
              "0  neg   0_2.txt      \n",
              "1  neg   10000_4.txt  \n",
              "2  neg   10001_1.txt  \n",
              "3  neg   10002_3.txt  \n",
              "4  neg   10003_3.txt  "
            ],
            "text/html": [
              "\n",
              "  <div id=\"df-859966a5-cdef-4ae1-b9de-0083c40bc158\" class=\"colab-df-container\">\n",
              "    <div>\n",
              "<style scoped>\n",
              "    .dataframe tbody tr th:only-of-type {\n",
              "        vertical-align: middle;\n",
              "    }\n",
              "\n",
              "    .dataframe tbody tr th {\n",
              "        vertical-align: top;\n",
              "    }\n",
              "\n",
              "    .dataframe thead th {\n",
              "        text-align: right;\n",
              "    }\n",
              "</style>\n",
              "<table border=\"1\" class=\"dataframe\">\n",
              "  <thead>\n",
              "    <tr style=\"text-align: right;\">\n",
              "      <th></th>\n",
              "      <th>Unnamed: 0</th>\n",
              "      <th>type</th>\n",
              "      <th>review</th>\n",
              "      <th>label</th>\n",
              "      <th>file</th>\n",
              "    </tr>\n",
              "  </thead>\n",
              "  <tbody>\n",
              "    <tr>\n",
              "      <th>0</th>\n",
              "      <td>0</td>\n",
              "      <td>test</td>\n",
              "      <td>Once again Mr. Costner has dragged out a movie for far longer than necessary. Aside from the terrific sea rescue sequences, of which there are very few I just did not care about any of the characters. Most of us have ghosts in the closet, and Costner's character are realized early on, and then forgotten until much later, by which time I did not care. The character we should really care about is a very cocky, overconfident Ashton Kutcher. The problem is he comes off as kid who thinks he's better than anyone else around him and shows no signs of a cluttered closet. His only obstacle appears to be winning over Costner. Finally when we are well past the half way point of this stinker, Costner tells us all about Kutcher's ghosts. We are told why Kutcher is driven to be the best with no prior inkling or foreshadowing. No magic here, it was all I could do to keep from turning it off an hour in.</td>\n",
              "      <td>neg</td>\n",
              "      <td>0_2.txt</td>\n",
              "    </tr>\n",
              "    <tr>\n",
              "      <th>1</th>\n",
              "      <td>1</td>\n",
              "      <td>test</td>\n",
              "      <td>This is an example of why the majority of action films are the same. Generic and boring, there's really nothing worth watching here. A complete waste of the then barely-tapped talents of Ice-T and Ice Cube, who've each proven many times over that they are capable of acting, and acting well. Don't bother with this one, go see New Jack City, Ricochet or watch New York Undercover for Ice-T, or Boyz n the Hood, Higher Learning or Friday for Ice Cube and see the real deal. Ice-T's horribly cliched dialogue alone makes this film grate at the teeth, and I'm still wondering what the heck Bill Paxton was doing in this film? And why the heck does he always play the exact same character? From Aliens onward, every film I've seen with Bill Paxton has him playing the exact same irritating character, and at least in Aliens his character died, which made it somewhat gratifying...&lt;br /&gt;&lt;br /&gt;Overall, this is second-rate action trash. There are countless better films to see, and if you really want to see this one, watch Judgement Night, which is practically a carbon copy but has better acting and a better script. The only thing that made this at all worth watching was a decent hand on the camera - the cinematography was almost refreshing, which comes close to making up for the horrible film itself - but not quite. 4/10.</td>\n",
              "      <td>neg</td>\n",
              "      <td>10000_4.txt</td>\n",
              "    </tr>\n",
              "    <tr>\n",
              "      <th>2</th>\n",
              "      <td>2</td>\n",
              "      <td>test</td>\n",
              "      <td>First of all I hate those moronic rappers, who could'nt act if they had a gun pressed against their foreheads. All they do is curse and shoot each other and acting like clichÃ©'e version of gangsters.&lt;br /&gt;&lt;br /&gt;The movie doesn't take more than five minutes to explain what is going on before we're already at the warehouse There is not a single sympathetic character in this movie, except for the homeless guy, who is also the only one with half a brain.&lt;br /&gt;&lt;br /&gt;Bill Paxton and William Sadler are both hill billies and Sadlers character is just as much a villain as the gangsters. I did'nt like him right from the start.&lt;br /&gt;&lt;br /&gt;The movie is filled with pointless violence and Walter Hills specialty: people falling through windows with glass flying everywhere. There is pretty much no plot and it is a big problem when you root for no-one. Everybody dies, except from Paxton and the homeless guy and everybody get what they deserve.&lt;br /&gt;&lt;br /&gt;The only two black people that can act is the homeless guy and the junkie but they're actors by profession, not annoying ugly brain dead rappers.&lt;br /&gt;&lt;br /&gt;Stay away from this crap and watch 48 hours 1 and 2 instead. At lest they have characters you care about, a sense of humor and nothing but real actors in the cast.</td>\n",
              "      <td>neg</td>\n",
              "      <td>10001_1.txt</td>\n",
              "    </tr>\n",
              "    <tr>\n",
              "      <th>3</th>\n",
              "      <td>3</td>\n",
              "      <td>test</td>\n",
              "      <td>Not even the Beatles could write songs everyone liked, and although Walter Hill is no mop-top he's second to none when it comes to thought provoking action movies. The nineties came and social platforms were changing in music and film, the emergence of the Rapper turned movie star was in full swing, the acting took a back seat to each man's overpowering regional accent and transparent acting. This was one of the many ice-t movies i saw as a kid and loved, only to watch them later and cringe. Bill Paxton and William Sadler are firemen with basic lives until a burning building tenant about to go up in flames hands over a map with gold implications. I hand it to Walter for quickly and neatly setting up the main characters and location. But i fault everyone involved for turning out Lame-o performances. Ice-t and cube must have been red hot at this time, and while I've enjoyed both their careers as rappers, in my opinion they fell flat in this movie. It's about ninety minutes of one guy ridiculously turning his back on the other guy to the point you find yourself locked in multiple states of disbelief. Now this is a movie, its not a documentary so i wont waste my time recounting all the stupid plot twists in this movie, but there were many, and they led nowhere. I got the feeling watching this that everyone on set was sord of confused and just playing things off the cuff. There are two things i still enjoy about it, one involves a scene with a needle and the other is Sadler's huge 45 pistol. Bottom line this movie is like domino's pizza. Yeah ill eat it if I'm hungry and i don't feel like cooking, But I'm well aware it tastes like crap. 3 stars, meh.</td>\n",
              "      <td>neg</td>\n",
              "      <td>10002_3.txt</td>\n",
              "    </tr>\n",
              "    <tr>\n",
              "      <th>4</th>\n",
              "      <td>4</td>\n",
              "      <td>test</td>\n",
              "      <td>Brass pictures (movies is not a fitting word for them) really are somewhat brassy. Their alluring visual qualities are reminiscent of expensive high class TV commercials. But unfortunately Brass pictures are feature films with the pretense of wanting to entertain viewers for over two hours! In this they fail miserably, their undeniable, but rather soft and flabby than steamy, erotic qualities non withstanding.&lt;br /&gt;&lt;br /&gt;Senso '45 is a remake of a film by Luchino Visconti with the same title and Alida Valli and Farley Granger in the lead. The original tells a story of senseless love and lust in and around Venice during the Italian wars of independence. Brass moved the action from the 19th into the 20th century, 1945 to be exact, so there are Mussolini murals, men in black shirts, German uniforms or the tattered garb of the partisans. But it is just window dressing, the historic context is completely negligible.&lt;br /&gt;&lt;br /&gt;Anna Galiena plays the attractive aristocratic woman who falls for the amoral SS guy who always puts on too much lipstick. She is an attractive, versatile, well trained Italian actress and clearly above the material. Her wide range of facial expressions (signalling boredom, loathing, delight, fear, hate ... and ecstasy) are the best reason to watch this picture and worth two stars. She endures this basically trashy stuff with an astonishing amount of dignity. I wish some really good parts come along for her. She really deserves it.</td>\n",
              "      <td>neg</td>\n",
              "      <td>10003_3.txt</td>\n",
              "    </tr>\n",
              "  </tbody>\n",
              "</table>\n",
              "</div>\n",
              "    <div class=\"colab-df-buttons\">\n",
              "\n",
              "  <div class=\"colab-df-container\">\n",
              "    <button class=\"colab-df-convert\" onclick=\"convertToInteractive('df-859966a5-cdef-4ae1-b9de-0083c40bc158')\"\n",
              "            title=\"Convert this dataframe to an interactive table.\"\n",
              "            style=\"display:none;\">\n",
              "\n",
              "  <svg xmlns=\"http://www.w3.org/2000/svg\" height=\"24px\" viewBox=\"0 -960 960 960\">\n",
              "    <path d=\"M120-120v-720h720v720H120Zm60-500h600v-160H180v160Zm220 220h160v-160H400v160Zm0 220h160v-160H400v160ZM180-400h160v-160H180v160Zm440 0h160v-160H620v160ZM180-180h160v-160H180v160Zm440 0h160v-160H620v160Z\"/>\n",
              "  </svg>\n",
              "    </button>\n",
              "\n",
              "  <style>\n",
              "    .colab-df-container {\n",
              "      display:flex;\n",
              "      gap: 12px;\n",
              "    }\n",
              "\n",
              "    .colab-df-convert {\n",
              "      background-color: #E8F0FE;\n",
              "      border: none;\n",
              "      border-radius: 50%;\n",
              "      cursor: pointer;\n",
              "      display: none;\n",
              "      fill: #1967D2;\n",
              "      height: 32px;\n",
              "      padding: 0 0 0 0;\n",
              "      width: 32px;\n",
              "    }\n",
              "\n",
              "    .colab-df-convert:hover {\n",
              "      background-color: #E2EBFA;\n",
              "      box-shadow: 0px 1px 2px rgba(60, 64, 67, 0.3), 0px 1px 3px 1px rgba(60, 64, 67, 0.15);\n",
              "      fill: #174EA6;\n",
              "    }\n",
              "\n",
              "    .colab-df-buttons div {\n",
              "      margin-bottom: 4px;\n",
              "    }\n",
              "\n",
              "    [theme=dark] .colab-df-convert {\n",
              "      background-color: #3B4455;\n",
              "      fill: #D2E3FC;\n",
              "    }\n",
              "\n",
              "    [theme=dark] .colab-df-convert:hover {\n",
              "      background-color: #434B5C;\n",
              "      box-shadow: 0px 1px 3px 1px rgba(0, 0, 0, 0.15);\n",
              "      filter: drop-shadow(0px 1px 2px rgba(0, 0, 0, 0.3));\n",
              "      fill: #FFFFFF;\n",
              "    }\n",
              "  </style>\n",
              "\n",
              "    <script>\n",
              "      const buttonEl =\n",
              "        document.querySelector('#df-859966a5-cdef-4ae1-b9de-0083c40bc158 button.colab-df-convert');\n",
              "      buttonEl.style.display =\n",
              "        google.colab.kernel.accessAllowed ? 'block' : 'none';\n",
              "\n",
              "      async function convertToInteractive(key) {\n",
              "        const element = document.querySelector('#df-859966a5-cdef-4ae1-b9de-0083c40bc158');\n",
              "        const dataTable =\n",
              "          await google.colab.kernel.invokeFunction('convertToInteractive',\n",
              "                                                    [key], {});\n",
              "        if (!dataTable) return;\n",
              "\n",
              "        const docLinkHtml = 'Like what you see? Visit the ' +\n",
              "          '<a target=\"_blank\" href=https://colab.research.google.com/notebooks/data_table.ipynb>data table notebook</a>'\n",
              "          + ' to learn more about interactive tables.';\n",
              "        element.innerHTML = '';\n",
              "        dataTable['output_type'] = 'display_data';\n",
              "        await google.colab.output.renderOutput(dataTable, element);\n",
              "        const docLink = document.createElement('div');\n",
              "        docLink.innerHTML = docLinkHtml;\n",
              "        element.appendChild(docLink);\n",
              "      }\n",
              "    </script>\n",
              "  </div>\n",
              "\n",
              "\n",
              "<div id=\"df-f82812ec-9229-4333-8af9-2932dd569b14\">\n",
              "  <button class=\"colab-df-quickchart\" onclick=\"quickchart('df-f82812ec-9229-4333-8af9-2932dd569b14')\"\n",
              "            title=\"Suggest charts\"\n",
              "            style=\"display:none;\">\n",
              "\n",
              "<svg xmlns=\"http://www.w3.org/2000/svg\" height=\"24px\"viewBox=\"0 0 24 24\"\n",
              "     width=\"24px\">\n",
              "    <g>\n",
              "        <path d=\"M19 3H5c-1.1 0-2 .9-2 2v14c0 1.1.9 2 2 2h14c1.1 0 2-.9 2-2V5c0-1.1-.9-2-2-2zM9 17H7v-7h2v7zm4 0h-2V7h2v10zm4 0h-2v-4h2v4z\"/>\n",
              "    </g>\n",
              "</svg>\n",
              "  </button>\n",
              "\n",
              "<style>\n",
              "  .colab-df-quickchart {\n",
              "      --bg-color: #E8F0FE;\n",
              "      --fill-color: #1967D2;\n",
              "      --hover-bg-color: #E2EBFA;\n",
              "      --hover-fill-color: #174EA6;\n",
              "      --disabled-fill-color: #AAA;\n",
              "      --disabled-bg-color: #DDD;\n",
              "  }\n",
              "\n",
              "  [theme=dark] .colab-df-quickchart {\n",
              "      --bg-color: #3B4455;\n",
              "      --fill-color: #D2E3FC;\n",
              "      --hover-bg-color: #434B5C;\n",
              "      --hover-fill-color: #FFFFFF;\n",
              "      --disabled-bg-color: #3B4455;\n",
              "      --disabled-fill-color: #666;\n",
              "  }\n",
              "\n",
              "  .colab-df-quickchart {\n",
              "    background-color: var(--bg-color);\n",
              "    border: none;\n",
              "    border-radius: 50%;\n",
              "    cursor: pointer;\n",
              "    display: none;\n",
              "    fill: var(--fill-color);\n",
              "    height: 32px;\n",
              "    padding: 0;\n",
              "    width: 32px;\n",
              "  }\n",
              "\n",
              "  .colab-df-quickchart:hover {\n",
              "    background-color: var(--hover-bg-color);\n",
              "    box-shadow: 0 1px 2px rgba(60, 64, 67, 0.3), 0 1px 3px 1px rgba(60, 64, 67, 0.15);\n",
              "    fill: var(--button-hover-fill-color);\n",
              "  }\n",
              "\n",
              "  .colab-df-quickchart-complete:disabled,\n",
              "  .colab-df-quickchart-complete:disabled:hover {\n",
              "    background-color: var(--disabled-bg-color);\n",
              "    fill: var(--disabled-fill-color);\n",
              "    box-shadow: none;\n",
              "  }\n",
              "\n",
              "  .colab-df-spinner {\n",
              "    border: 2px solid var(--fill-color);\n",
              "    border-color: transparent;\n",
              "    border-bottom-color: var(--fill-color);\n",
              "    animation:\n",
              "      spin 1s steps(1) infinite;\n",
              "  }\n",
              "\n",
              "  @keyframes spin {\n",
              "    0% {\n",
              "      border-color: transparent;\n",
              "      border-bottom-color: var(--fill-color);\n",
              "      border-left-color: var(--fill-color);\n",
              "    }\n",
              "    20% {\n",
              "      border-color: transparent;\n",
              "      border-left-color: var(--fill-color);\n",
              "      border-top-color: var(--fill-color);\n",
              "    }\n",
              "    30% {\n",
              "      border-color: transparent;\n",
              "      border-left-color: var(--fill-color);\n",
              "      border-top-color: var(--fill-color);\n",
              "      border-right-color: var(--fill-color);\n",
              "    }\n",
              "    40% {\n",
              "      border-color: transparent;\n",
              "      border-right-color: var(--fill-color);\n",
              "      border-top-color: var(--fill-color);\n",
              "    }\n",
              "    60% {\n",
              "      border-color: transparent;\n",
              "      border-right-color: var(--fill-color);\n",
              "    }\n",
              "    80% {\n",
              "      border-color: transparent;\n",
              "      border-right-color: var(--fill-color);\n",
              "      border-bottom-color: var(--fill-color);\n",
              "    }\n",
              "    90% {\n",
              "      border-color: transparent;\n",
              "      border-bottom-color: var(--fill-color);\n",
              "    }\n",
              "  }\n",
              "</style>\n",
              "\n",
              "  <script>\n",
              "    async function quickchart(key) {\n",
              "      const quickchartButtonEl =\n",
              "        document.querySelector('#' + key + ' button');\n",
              "      quickchartButtonEl.disabled = true;  // To prevent multiple clicks.\n",
              "      quickchartButtonEl.classList.add('colab-df-spinner');\n",
              "      try {\n",
              "        const charts = await google.colab.kernel.invokeFunction(\n",
              "            'suggestCharts', [key], {});\n",
              "      } catch (error) {\n",
              "        console.error('Error during call to suggestCharts:', error);\n",
              "      }\n",
              "      quickchartButtonEl.classList.remove('colab-df-spinner');\n",
              "      quickchartButtonEl.classList.add('colab-df-quickchart-complete');\n",
              "    }\n",
              "    (() => {\n",
              "      let quickchartButtonEl =\n",
              "        document.querySelector('#df-f82812ec-9229-4333-8af9-2932dd569b14 button');\n",
              "      quickchartButtonEl.style.display =\n",
              "        google.colab.kernel.accessAllowed ? 'block' : 'none';\n",
              "    })();\n",
              "  </script>\n",
              "</div>\n",
              "    </div>\n",
              "  </div>\n"
            ],
            "application/vnd.google.colaboratory.intrinsic+json": {
              "type": "dataframe",
              "variable_name": "df",
              "summary": "{\n  \"name\": \"df\",\n  \"rows\": 100000,\n  \"fields\": [\n    {\n      \"column\": \"Unnamed: 0\",\n      \"properties\": {\n        \"dtype\": \"number\",\n        \"std\": 28867,\n        \"min\": 0,\n        \"max\": 99999,\n        \"num_unique_values\": 100000,\n        \"samples\": [\n          75721,\n          80184,\n          19864\n        ],\n        \"semantic_type\": \"\",\n        \"description\": \"\"\n      }\n    },\n    {\n      \"column\": \"type\",\n      \"properties\": {\n        \"dtype\": \"category\",\n        \"num_unique_values\": 2,\n        \"samples\": [\n          \"train\",\n          \"test\"\n        ],\n        \"semantic_type\": \"\",\n        \"description\": \"\"\n      }\n    },\n    {\n      \"column\": \"review\",\n      \"properties\": {\n        \"dtype\": \"string\",\n        \"num_unique_values\": 98469,\n        \"samples\": [\n          \"I saw this film not too long ago. I borrowed it from a friend who bought the DVD in Canada. I thought 'Well? Let's see what this film is like..' To tell you the truth, I think director Albert Pyun's fourth Nemesis installment has sunk more lower than a submarine. Hitting the ocean floor or the abyss. In this film, there's so much talk and less action. I couldn't believe what Sue Price has got herself into. Stripping nude in the film as she carries gun, kill a few guys and that's it! Although she maybe good in the film.. I would've thought there would be more action. But it seems that Albert Pyun decided to tone it down in this crappy flick. Obviously the movie itself was set in 2080 AD. But it seems it's set in the 90's in some ghost town with nobody there. There was a scene where Sue Price's character, Alex fires one shot at a helicopter which was totally out of proportion. I thought Mel Gibson's character of Martin Riggs of Lethal Weapon would shoot the pilot dead within 3 shots. Anyway, this film is not as good as I thought. It was terribly done. Shame this fourth Nemesis movie really ran its course. I don't blame Sue Price. I hope in future, she gets better and decent roles than this. So for Sue Price, 10 out of 10! Well? You do the maths.. As for the film? 0 out of 10! Not my kind of film! Sorry..!!\",\n          \"I thoroughly enjoyed this film. I had read the book a good ten years ago and was intrigued about how it would translate to film.<br /><br />The screenplay is very true to the book, which I was charmed by - this is a rarity in itself these days. The characterisations were solid and believeable, and the stroytelling kept me shifting in my perceptions, even though I already knew the ending from the book.<br /><br />An intelligent and well crafted film.\"\n        ],\n        \"semantic_type\": \"\",\n        \"description\": \"\"\n      }\n    },\n    {\n      \"column\": \"label\",\n      \"properties\": {\n        \"dtype\": \"category\",\n        \"num_unique_values\": 3,\n        \"samples\": [\n          \"neg\",\n          \"pos\"\n        ],\n        \"semantic_type\": \"\",\n        \"description\": \"\"\n      }\n    },\n    {\n      \"column\": \"file\",\n      \"properties\": {\n        \"dtype\": \"string\",\n        \"num_unique_values\": 92927,\n        \"samples\": [\n          \"41416_0.txt\",\n          \"10903_1.txt\"\n        ],\n        \"semantic_type\": \"\",\n        \"description\": \"\"\n      }\n    }\n  ]\n}"
            }
          },
          "metadata": {},
          "execution_count": 29
        }
      ]
    },
    {
      "cell_type": "code",
      "source": [
        "df = pd.read_csv(r\"/content/imdb_master.csv\", encoding=\"ISO-8859-1\")[['review','label']].query(\"label!='unsup'\")\n",
        "df.groupby('label').count()"
      ],
      "metadata": {
        "colab": {
          "base_uri": "https://localhost:8080/",
          "height": 143
        },
        "id": "TiEaL-g5L6JA",
        "outputId": "7a94dc82-73e1-4ba2-cc76-2691a7bc8bc8"
      },
      "execution_count": 30,
      "outputs": [
        {
          "output_type": "execute_result",
          "data": {
            "text/plain": [
              "       review\n",
              "label        \n",
              "neg    25000 \n",
              "pos    25000 "
            ],
            "text/html": [
              "\n",
              "  <div id=\"df-2ce41263-b453-41e2-a724-a47eac490a33\" class=\"colab-df-container\">\n",
              "    <div>\n",
              "<style scoped>\n",
              "    .dataframe tbody tr th:only-of-type {\n",
              "        vertical-align: middle;\n",
              "    }\n",
              "\n",
              "    .dataframe tbody tr th {\n",
              "        vertical-align: top;\n",
              "    }\n",
              "\n",
              "    .dataframe thead th {\n",
              "        text-align: right;\n",
              "    }\n",
              "</style>\n",
              "<table border=\"1\" class=\"dataframe\">\n",
              "  <thead>\n",
              "    <tr style=\"text-align: right;\">\n",
              "      <th></th>\n",
              "      <th>review</th>\n",
              "    </tr>\n",
              "    <tr>\n",
              "      <th>label</th>\n",
              "      <th></th>\n",
              "    </tr>\n",
              "  </thead>\n",
              "  <tbody>\n",
              "    <tr>\n",
              "      <th>neg</th>\n",
              "      <td>25000</td>\n",
              "    </tr>\n",
              "    <tr>\n",
              "      <th>pos</th>\n",
              "      <td>25000</td>\n",
              "    </tr>\n",
              "  </tbody>\n",
              "</table>\n",
              "</div>\n",
              "    <div class=\"colab-df-buttons\">\n",
              "\n",
              "  <div class=\"colab-df-container\">\n",
              "    <button class=\"colab-df-convert\" onclick=\"convertToInteractive('df-2ce41263-b453-41e2-a724-a47eac490a33')\"\n",
              "            title=\"Convert this dataframe to an interactive table.\"\n",
              "            style=\"display:none;\">\n",
              "\n",
              "  <svg xmlns=\"http://www.w3.org/2000/svg\" height=\"24px\" viewBox=\"0 -960 960 960\">\n",
              "    <path d=\"M120-120v-720h720v720H120Zm60-500h600v-160H180v160Zm220 220h160v-160H400v160Zm0 220h160v-160H400v160ZM180-400h160v-160H180v160Zm440 0h160v-160H620v160ZM180-180h160v-160H180v160Zm440 0h160v-160H620v160Z\"/>\n",
              "  </svg>\n",
              "    </button>\n",
              "\n",
              "  <style>\n",
              "    .colab-df-container {\n",
              "      display:flex;\n",
              "      gap: 12px;\n",
              "    }\n",
              "\n",
              "    .colab-df-convert {\n",
              "      background-color: #E8F0FE;\n",
              "      border: none;\n",
              "      border-radius: 50%;\n",
              "      cursor: pointer;\n",
              "      display: none;\n",
              "      fill: #1967D2;\n",
              "      height: 32px;\n",
              "      padding: 0 0 0 0;\n",
              "      width: 32px;\n",
              "    }\n",
              "\n",
              "    .colab-df-convert:hover {\n",
              "      background-color: #E2EBFA;\n",
              "      box-shadow: 0px 1px 2px rgba(60, 64, 67, 0.3), 0px 1px 3px 1px rgba(60, 64, 67, 0.15);\n",
              "      fill: #174EA6;\n",
              "    }\n",
              "\n",
              "    .colab-df-buttons div {\n",
              "      margin-bottom: 4px;\n",
              "    }\n",
              "\n",
              "    [theme=dark] .colab-df-convert {\n",
              "      background-color: #3B4455;\n",
              "      fill: #D2E3FC;\n",
              "    }\n",
              "\n",
              "    [theme=dark] .colab-df-convert:hover {\n",
              "      background-color: #434B5C;\n",
              "      box-shadow: 0px 1px 3px 1px rgba(0, 0, 0, 0.15);\n",
              "      filter: drop-shadow(0px 1px 2px rgba(0, 0, 0, 0.3));\n",
              "      fill: #FFFFFF;\n",
              "    }\n",
              "  </style>\n",
              "\n",
              "    <script>\n",
              "      const buttonEl =\n",
              "        document.querySelector('#df-2ce41263-b453-41e2-a724-a47eac490a33 button.colab-df-convert');\n",
              "      buttonEl.style.display =\n",
              "        google.colab.kernel.accessAllowed ? 'block' : 'none';\n",
              "\n",
              "      async function convertToInteractive(key) {\n",
              "        const element = document.querySelector('#df-2ce41263-b453-41e2-a724-a47eac490a33');\n",
              "        const dataTable =\n",
              "          await google.colab.kernel.invokeFunction('convertToInteractive',\n",
              "                                                    [key], {});\n",
              "        if (!dataTable) return;\n",
              "\n",
              "        const docLinkHtml = 'Like what you see? Visit the ' +\n",
              "          '<a target=\"_blank\" href=https://colab.research.google.com/notebooks/data_table.ipynb>data table notebook</a>'\n",
              "          + ' to learn more about interactive tables.';\n",
              "        element.innerHTML = '';\n",
              "        dataTable['output_type'] = 'display_data';\n",
              "        await google.colab.output.renderOutput(dataTable, element);\n",
              "        const docLink = document.createElement('div');\n",
              "        docLink.innerHTML = docLinkHtml;\n",
              "        element.appendChild(docLink);\n",
              "      }\n",
              "    </script>\n",
              "  </div>\n",
              "\n",
              "\n",
              "<div id=\"df-167de625-e426-491d-aa7e-12f9f90f4c42\">\n",
              "  <button class=\"colab-df-quickchart\" onclick=\"quickchart('df-167de625-e426-491d-aa7e-12f9f90f4c42')\"\n",
              "            title=\"Suggest charts\"\n",
              "            style=\"display:none;\">\n",
              "\n",
              "<svg xmlns=\"http://www.w3.org/2000/svg\" height=\"24px\"viewBox=\"0 0 24 24\"\n",
              "     width=\"24px\">\n",
              "    <g>\n",
              "        <path d=\"M19 3H5c-1.1 0-2 .9-2 2v14c0 1.1.9 2 2 2h14c1.1 0 2-.9 2-2V5c0-1.1-.9-2-2-2zM9 17H7v-7h2v7zm4 0h-2V7h2v10zm4 0h-2v-4h2v4z\"/>\n",
              "    </g>\n",
              "</svg>\n",
              "  </button>\n",
              "\n",
              "<style>\n",
              "  .colab-df-quickchart {\n",
              "      --bg-color: #E8F0FE;\n",
              "      --fill-color: #1967D2;\n",
              "      --hover-bg-color: #E2EBFA;\n",
              "      --hover-fill-color: #174EA6;\n",
              "      --disabled-fill-color: #AAA;\n",
              "      --disabled-bg-color: #DDD;\n",
              "  }\n",
              "\n",
              "  [theme=dark] .colab-df-quickchart {\n",
              "      --bg-color: #3B4455;\n",
              "      --fill-color: #D2E3FC;\n",
              "      --hover-bg-color: #434B5C;\n",
              "      --hover-fill-color: #FFFFFF;\n",
              "      --disabled-bg-color: #3B4455;\n",
              "      --disabled-fill-color: #666;\n",
              "  }\n",
              "\n",
              "  .colab-df-quickchart {\n",
              "    background-color: var(--bg-color);\n",
              "    border: none;\n",
              "    border-radius: 50%;\n",
              "    cursor: pointer;\n",
              "    display: none;\n",
              "    fill: var(--fill-color);\n",
              "    height: 32px;\n",
              "    padding: 0;\n",
              "    width: 32px;\n",
              "  }\n",
              "\n",
              "  .colab-df-quickchart:hover {\n",
              "    background-color: var(--hover-bg-color);\n",
              "    box-shadow: 0 1px 2px rgba(60, 64, 67, 0.3), 0 1px 3px 1px rgba(60, 64, 67, 0.15);\n",
              "    fill: var(--button-hover-fill-color);\n",
              "  }\n",
              "\n",
              "  .colab-df-quickchart-complete:disabled,\n",
              "  .colab-df-quickchart-complete:disabled:hover {\n",
              "    background-color: var(--disabled-bg-color);\n",
              "    fill: var(--disabled-fill-color);\n",
              "    box-shadow: none;\n",
              "  }\n",
              "\n",
              "  .colab-df-spinner {\n",
              "    border: 2px solid var(--fill-color);\n",
              "    border-color: transparent;\n",
              "    border-bottom-color: var(--fill-color);\n",
              "    animation:\n",
              "      spin 1s steps(1) infinite;\n",
              "  }\n",
              "\n",
              "  @keyframes spin {\n",
              "    0% {\n",
              "      border-color: transparent;\n",
              "      border-bottom-color: var(--fill-color);\n",
              "      border-left-color: var(--fill-color);\n",
              "    }\n",
              "    20% {\n",
              "      border-color: transparent;\n",
              "      border-left-color: var(--fill-color);\n",
              "      border-top-color: var(--fill-color);\n",
              "    }\n",
              "    30% {\n",
              "      border-color: transparent;\n",
              "      border-left-color: var(--fill-color);\n",
              "      border-top-color: var(--fill-color);\n",
              "      border-right-color: var(--fill-color);\n",
              "    }\n",
              "    40% {\n",
              "      border-color: transparent;\n",
              "      border-right-color: var(--fill-color);\n",
              "      border-top-color: var(--fill-color);\n",
              "    }\n",
              "    60% {\n",
              "      border-color: transparent;\n",
              "      border-right-color: var(--fill-color);\n",
              "    }\n",
              "    80% {\n",
              "      border-color: transparent;\n",
              "      border-right-color: var(--fill-color);\n",
              "      border-bottom-color: var(--fill-color);\n",
              "    }\n",
              "    90% {\n",
              "      border-color: transparent;\n",
              "      border-bottom-color: var(--fill-color);\n",
              "    }\n",
              "  }\n",
              "</style>\n",
              "\n",
              "  <script>\n",
              "    async function quickchart(key) {\n",
              "      const quickchartButtonEl =\n",
              "        document.querySelector('#' + key + ' button');\n",
              "      quickchartButtonEl.disabled = true;  // To prevent multiple clicks.\n",
              "      quickchartButtonEl.classList.add('colab-df-spinner');\n",
              "      try {\n",
              "        const charts = await google.colab.kernel.invokeFunction(\n",
              "            'suggestCharts', [key], {});\n",
              "      } catch (error) {\n",
              "        console.error('Error during call to suggestCharts:', error);\n",
              "      }\n",
              "      quickchartButtonEl.classList.remove('colab-df-spinner');\n",
              "      quickchartButtonEl.classList.add('colab-df-quickchart-complete');\n",
              "    }\n",
              "    (() => {\n",
              "      let quickchartButtonEl =\n",
              "        document.querySelector('#df-167de625-e426-491d-aa7e-12f9f90f4c42 button');\n",
              "      quickchartButtonEl.style.display =\n",
              "        google.colab.kernel.accessAllowed ? 'block' : 'none';\n",
              "    })();\n",
              "  </script>\n",
              "</div>\n",
              "    </div>\n",
              "  </div>\n"
            ],
            "application/vnd.google.colaboratory.intrinsic+json": {
              "type": "dataframe",
              "summary": "{\n  \"name\": \"df\",\n  \"rows\": 2,\n  \"fields\": [\n    {\n      \"column\": \"label\",\n      \"properties\": {\n        \"dtype\": \"string\",\n        \"num_unique_values\": 2,\n        \"samples\": [\n          \"pos\",\n          \"neg\"\n        ],\n        \"semantic_type\": \"\",\n        \"description\": \"\"\n      }\n    },\n    {\n      \"column\": \"review\",\n      \"properties\": {\n        \"dtype\": \"number\",\n        \"std\": 0,\n        \"min\": 25000,\n        \"max\": 25000,\n        \"num_unique_values\": 1,\n        \"samples\": [\n          25000\n        ],\n        \"semantic_type\": \"\",\n        \"description\": \"\"\n      }\n    }\n  ]\n}"
            }
          },
          "metadata": {},
          "execution_count": 30
        }
      ]
    },
    {
      "cell_type": "code",
      "source": [
        "df.head(1)"
      ],
      "metadata": {
        "colab": {
          "base_uri": "https://localhost:8080/",
          "height": 185
        },
        "id": "XvXvUjrEMKaT",
        "outputId": "8f9da2c5-56fc-43ef-dd95-ebb354780b1d"
      },
      "execution_count": 31,
      "outputs": [
        {
          "output_type": "execute_result",
          "data": {
            "text/plain": [
              "                                                                                                                                                                                                                                                                                                                                                                                                                                                                                                                                                                                                                                                                                                                                                                                                                                                                                                                                 review  \\\n",
              "0  Once again Mr. Costner has dragged out a movie for far longer than necessary. Aside from the terrific sea rescue sequences, of which there are very few I just did not care about any of the characters. Most of us have ghosts in the closet, and Costner's character are realized early on, and then forgotten until much later, by which time I did not care. The character we should really care about is a very cocky, overconfident Ashton Kutcher. The problem is he comes off as kid who thinks he's better than anyone else around him and shows no signs of a cluttered closet. His only obstacle appears to be winning over Costner. Finally when we are well past the half way point of this stinker, Costner tells us all about Kutcher's ghosts. We are told why Kutcher is driven to be the best with no prior inkling or foreshadowing. No magic here, it was all I could do to keep from turning it off an hour in.   \n",
              "\n",
              "  label  \n",
              "0  neg   "
            ],
            "text/html": [
              "\n",
              "  <div id=\"df-7446bb3b-cb85-4590-b624-ba1cc1d70c40\" class=\"colab-df-container\">\n",
              "    <div>\n",
              "<style scoped>\n",
              "    .dataframe tbody tr th:only-of-type {\n",
              "        vertical-align: middle;\n",
              "    }\n",
              "\n",
              "    .dataframe tbody tr th {\n",
              "        vertical-align: top;\n",
              "    }\n",
              "\n",
              "    .dataframe thead th {\n",
              "        text-align: right;\n",
              "    }\n",
              "</style>\n",
              "<table border=\"1\" class=\"dataframe\">\n",
              "  <thead>\n",
              "    <tr style=\"text-align: right;\">\n",
              "      <th></th>\n",
              "      <th>review</th>\n",
              "      <th>label</th>\n",
              "    </tr>\n",
              "  </thead>\n",
              "  <tbody>\n",
              "    <tr>\n",
              "      <th>0</th>\n",
              "      <td>Once again Mr. Costner has dragged out a movie for far longer than necessary. Aside from the terrific sea rescue sequences, of which there are very few I just did not care about any of the characters. Most of us have ghosts in the closet, and Costner's character are realized early on, and then forgotten until much later, by which time I did not care. The character we should really care about is a very cocky, overconfident Ashton Kutcher. The problem is he comes off as kid who thinks he's better than anyone else around him and shows no signs of a cluttered closet. His only obstacle appears to be winning over Costner. Finally when we are well past the half way point of this stinker, Costner tells us all about Kutcher's ghosts. We are told why Kutcher is driven to be the best with no prior inkling or foreshadowing. No magic here, it was all I could do to keep from turning it off an hour in.</td>\n",
              "      <td>neg</td>\n",
              "    </tr>\n",
              "  </tbody>\n",
              "</table>\n",
              "</div>\n",
              "    <div class=\"colab-df-buttons\">\n",
              "\n",
              "  <div class=\"colab-df-container\">\n",
              "    <button class=\"colab-df-convert\" onclick=\"convertToInteractive('df-7446bb3b-cb85-4590-b624-ba1cc1d70c40')\"\n",
              "            title=\"Convert this dataframe to an interactive table.\"\n",
              "            style=\"display:none;\">\n",
              "\n",
              "  <svg xmlns=\"http://www.w3.org/2000/svg\" height=\"24px\" viewBox=\"0 -960 960 960\">\n",
              "    <path d=\"M120-120v-720h720v720H120Zm60-500h600v-160H180v160Zm220 220h160v-160H400v160Zm0 220h160v-160H400v160ZM180-400h160v-160H180v160Zm440 0h160v-160H620v160ZM180-180h160v-160H180v160Zm440 0h160v-160H620v160Z\"/>\n",
              "  </svg>\n",
              "    </button>\n",
              "\n",
              "  <style>\n",
              "    .colab-df-container {\n",
              "      display:flex;\n",
              "      gap: 12px;\n",
              "    }\n",
              "\n",
              "    .colab-df-convert {\n",
              "      background-color: #E8F0FE;\n",
              "      border: none;\n",
              "      border-radius: 50%;\n",
              "      cursor: pointer;\n",
              "      display: none;\n",
              "      fill: #1967D2;\n",
              "      height: 32px;\n",
              "      padding: 0 0 0 0;\n",
              "      width: 32px;\n",
              "    }\n",
              "\n",
              "    .colab-df-convert:hover {\n",
              "      background-color: #E2EBFA;\n",
              "      box-shadow: 0px 1px 2px rgba(60, 64, 67, 0.3), 0px 1px 3px 1px rgba(60, 64, 67, 0.15);\n",
              "      fill: #174EA6;\n",
              "    }\n",
              "\n",
              "    .colab-df-buttons div {\n",
              "      margin-bottom: 4px;\n",
              "    }\n",
              "\n",
              "    [theme=dark] .colab-df-convert {\n",
              "      background-color: #3B4455;\n",
              "      fill: #D2E3FC;\n",
              "    }\n",
              "\n",
              "    [theme=dark] .colab-df-convert:hover {\n",
              "      background-color: #434B5C;\n",
              "      box-shadow: 0px 1px 3px 1px rgba(0, 0, 0, 0.15);\n",
              "      filter: drop-shadow(0px 1px 2px rgba(0, 0, 0, 0.3));\n",
              "      fill: #FFFFFF;\n",
              "    }\n",
              "  </style>\n",
              "\n",
              "    <script>\n",
              "      const buttonEl =\n",
              "        document.querySelector('#df-7446bb3b-cb85-4590-b624-ba1cc1d70c40 button.colab-df-convert');\n",
              "      buttonEl.style.display =\n",
              "        google.colab.kernel.accessAllowed ? 'block' : 'none';\n",
              "\n",
              "      async function convertToInteractive(key) {\n",
              "        const element = document.querySelector('#df-7446bb3b-cb85-4590-b624-ba1cc1d70c40');\n",
              "        const dataTable =\n",
              "          await google.colab.kernel.invokeFunction('convertToInteractive',\n",
              "                                                    [key], {});\n",
              "        if (!dataTable) return;\n",
              "\n",
              "        const docLinkHtml = 'Like what you see? Visit the ' +\n",
              "          '<a target=\"_blank\" href=https://colab.research.google.com/notebooks/data_table.ipynb>data table notebook</a>'\n",
              "          + ' to learn more about interactive tables.';\n",
              "        element.innerHTML = '';\n",
              "        dataTable['output_type'] = 'display_data';\n",
              "        await google.colab.output.renderOutput(dataTable, element);\n",
              "        const docLink = document.createElement('div');\n",
              "        docLink.innerHTML = docLinkHtml;\n",
              "        element.appendChild(docLink);\n",
              "      }\n",
              "    </script>\n",
              "  </div>\n",
              "\n",
              "    </div>\n",
              "  </div>\n"
            ],
            "application/vnd.google.colaboratory.intrinsic+json": {
              "type": "dataframe",
              "variable_name": "df",
              "summary": "{\n  \"name\": \"df\",\n  \"rows\": 50000,\n  \"fields\": [\n    {\n      \"column\": \"review\",\n      \"properties\": {\n        \"dtype\": \"string\",\n        \"num_unique_values\": 49582,\n        \"samples\": [\n          \"Only reason I have seen 101 Dalmatians was its nominations for original song and costume design for the Oscars. I must admit that I was less than impressed with this film. In this sequel, Cruella DeVil(by the way Glen Close pulls off this role very well) is released from the hospital due to her good behaviour. She likes all sort of animals and locks all her furs away. From that point, we only wait until she starts having crises. Soon enough, she does and tries to make the best coat of fashion world, of course for herself and from fine Dalmatian fur. Apart from Glen Close, I found all cast quite silly but from a child's eye funny. That is fair enough as its target market is, I assume, children under 12. Quite a good entertainment for children and families, but didn't do much for me. * out of *****\",\n          \"Alain Chabat claims this movie as his original idea but the theme of reluctant lovers who finally get it together is as old, if not older, than Shakespeare.<br /><br />Chabat is a \\\"vieux garcon\\\", happily single and not wanting any member of the opposite sex to disturb his life. He has a problem, 5 sisters and a matriarchal mum - the G7 - who decide he should be married. Enter the delightful, charming Charlotte Gainsbourg and what should be a simple plan. Charlotte has to pose as Chabat's girlfriend and then simply not turn up on the day of the wedding. No more talk of marriage from the G7. Of course the best laid plans have a habit of spiralling out of control.<br /><br />There are very strong supporting roles from Lafont as the mother and Osterman as the tight-fisted brother of Gainsbourg.<br /><br />There are some fantastic scenes as first Charlotte has to charm, then revolt the family. French farce with an English.\",\n          \"I kind of liked The Lonely Lady. Give Pia a break. She looks great and she has really nice eyes. What's not to like? The scene where she gets raped by Ray Liotta with a garden hose was kind of gross and cruel. Actually, a LOT of stuff that happens in this movie is gross and cruel. But its a trashy movie. A lot of movies that are trashy are not all bad. I liked this better than Valley of the Dolls, which was not only trashy but boring as well. At least this wasn't boring.<br /><br />Pia gets naked a lot and seems miscast as a writer. Watching her talk about Pushkin and Byron with a guy three times her age is flat unbelievable. I'm sure Pia's a nice person in real life, she just doesn't project the writer vibe. She looked much happier when she was working as a hostess for that guy from Saturday Night Fever and wearing a glittery disco dress.<br /><br />A couple of the scenes are funny. The one where she tells the two-timing actor that she's pregnant and he rolls his eyes and snaps at her to \\\"stop hanging around!\\\", all the while he's practically fawning over every bimbo who flounces by.<br /><br />Pia's nervous breakdown scene is good. It was probably a mistake to go so supernova on it (the vortex of floating faces and freeze-frame scream - whoa!) and her subsequent catatonic stupor is kind of overdone.<br /><br />The acceptance speech is a hoot, though. I want to see someone do that speech in a drama class.<br /><br />But, again, this is trash we're talking about. You could find worse on any movie of the week back in the eighties.\"\n        ],\n        \"semantic_type\": \"\",\n        \"description\": \"\"\n      }\n    },\n    {\n      \"column\": \"label\",\n      \"properties\": {\n        \"dtype\": \"category\",\n        \"num_unique_values\": 2,\n        \"samples\": [\n          \"pos\",\n          \"neg\"\n        ],\n        \"semantic_type\": \"\",\n        \"description\": \"\"\n      }\n    }\n  ]\n}"
            }
          },
          "metadata": {},
          "execution_count": 31
        }
      ]
    },
    {
      "cell_type": "code",
      "source": [
        "myText = df.review[5]\n",
        "myText\n"
      ],
      "metadata": {
        "colab": {
          "base_uri": "https://localhost:8080/",
          "height": 125
        },
        "id": "z0wh-8Q4Mchv",
        "outputId": "4f7f3277-a292-4244-8412-25f4ef8d8011"
      },
      "execution_count": 32,
      "outputs": [
        {
          "output_type": "execute_result",
          "data": {
            "text/plain": [
              "'A funny thing happened to me while watching \"Mosquito\": on the one hand, the hero is a deaf-mute and the director is totally unable to make us understand why he does what he does (mutilating mannequins...er, excuse me, corpses) through his images. On the other hand, the English version at least is very badly dubbed. So I found myself wishing there had been both more AND less dialogue at the same time! This film is stupid (funny how this guy has access to every graveyard and mortuary in his town) and lurid (where would we be in a 70s exploitationer without our gratuitous lesbian scene?). Not to mention the \"romantic\" aspect (oh, how sweet!)...Miss it. (*)'"
            ],
            "application/vnd.google.colaboratory.intrinsic+json": {
              "type": "string"
            }
          },
          "metadata": {},
          "execution_count": 32
        }
      ]
    },
    {
      "cell_type": "code",
      "source": [
        "#Removes characters that are not letters, spaces, or single quotes (')\n",
        "import re\n",
        "def preProcessing(text):\n",
        "    text = re.sub(r'[^\\w\\s\\']',\"\",text)\n",
        "    text = re.sub(' +',' ',text).lower()\n",
        "    return text"
      ],
      "metadata": {
        "id": "atK9IGFsNMOW"
      },
      "execution_count": 38,
      "outputs": []
    },
    {
      "cell_type": "code",
      "source": [
        "preProcessing(myText)"
      ],
      "metadata": {
        "colab": {
          "base_uri": "https://localhost:8080/",
          "height": 125
        },
        "id": "8S0-LFT5NsIx",
        "outputId": "712f220a-bd8e-4f6d-d04d-15cfc807b63f"
      },
      "execution_count": 39,
      "outputs": [
        {
          "output_type": "execute_result",
          "data": {
            "text/plain": [
              "'a funny thing happened to me while watching mosquito on the one hand the hero is a deafmute and the director is totally unable to make us understand why he does what he does mutilating mannequinser excuse me corpses through his images on the other hand the english version at least is very badly dubbed so i found myself wishing there had been both more and less dialogue at the same time this film is stupid funny how this guy has access to every graveyard and mortuary in his town and lurid where would we be in a 70s exploitationer without our gratuitous lesbian scene not to mention the romantic aspect oh how sweetmiss it '"
            ],
            "application/vnd.google.colaboratory.intrinsic+json": {
              "type": "string"
            }
          },
          "metadata": {},
          "execution_count": 39
        }
      ]
    },
    {
      "cell_type": "code",
      "source": [
        "df['processed_review'] = df['review'].map(preProcessing)"
      ],
      "metadata": {
        "id": "GBaDpizjOfr9"
      },
      "execution_count": 40,
      "outputs": []
    },
    {
      "cell_type": "code",
      "source": [
        "df.head(1)"
      ],
      "metadata": {
        "colab": {
          "base_uri": "https://localhost:8080/",
          "height": 306
        },
        "id": "qy95O1_gPEuq",
        "outputId": "dbc11d87-9672-4705-d660-9f257c1c8a58"
      },
      "execution_count": 41,
      "outputs": [
        {
          "output_type": "execute_result",
          "data": {
            "text/plain": [
              "                                                                                                                                                                                                                                                                                                                                                                                                                                                                                                                                                                                                                                                                                                                                                                                                                                                                                                                                 review  \\\n",
              "0  Once again Mr. Costner has dragged out a movie for far longer than necessary. Aside from the terrific sea rescue sequences, of which there are very few I just did not care about any of the characters. Most of us have ghosts in the closet, and Costner's character are realized early on, and then forgotten until much later, by which time I did not care. The character we should really care about is a very cocky, overconfident Ashton Kutcher. The problem is he comes off as kid who thinks he's better than anyone else around him and shows no signs of a cluttered closet. His only obstacle appears to be winning over Costner. Finally when we are well past the half way point of this stinker, Costner tells us all about Kutcher's ghosts. We are told why Kutcher is driven to be the best with no prior inkling or foreshadowing. No magic here, it was all I could do to keep from turning it off an hour in.   \n",
              "\n",
              "  label  \\\n",
              "0  neg    \n",
              "\n",
              "                                                                                                                                                                                                                                                                                                                                                                                                                                                                                                                                                                                                                                                                                                                                                                                                                                                                                                      processed_review  \n",
              "0  once again mr costner has dragged out a movie for far longer than necessary aside from the terrific sea rescue sequences of which there are very few i just did not care about any of the characters most of us have ghosts in the closet and costner's character are realized early on and then forgotten until much later by which time i did not care the character we should really care about is a very cocky overconfident ashton kutcher the problem is he comes off as kid who thinks he's better than anyone else around him and shows no signs of a cluttered closet his only obstacle appears to be winning over costner finally when we are well past the half way point of this stinker costner tells us all about kutcher's ghosts we are told why kutcher is driven to be the best with no prior inkling or foreshadowing no magic here it was all i could do to keep from turning it off an hour in  "
            ],
            "text/html": [
              "\n",
              "  <div id=\"df-84466983-eeab-4cf6-9a37-28f36661cf6e\" class=\"colab-df-container\">\n",
              "    <div>\n",
              "<style scoped>\n",
              "    .dataframe tbody tr th:only-of-type {\n",
              "        vertical-align: middle;\n",
              "    }\n",
              "\n",
              "    .dataframe tbody tr th {\n",
              "        vertical-align: top;\n",
              "    }\n",
              "\n",
              "    .dataframe thead th {\n",
              "        text-align: right;\n",
              "    }\n",
              "</style>\n",
              "<table border=\"1\" class=\"dataframe\">\n",
              "  <thead>\n",
              "    <tr style=\"text-align: right;\">\n",
              "      <th></th>\n",
              "      <th>review</th>\n",
              "      <th>label</th>\n",
              "      <th>processed_review</th>\n",
              "    </tr>\n",
              "  </thead>\n",
              "  <tbody>\n",
              "    <tr>\n",
              "      <th>0</th>\n",
              "      <td>Once again Mr. Costner has dragged out a movie for far longer than necessary. Aside from the terrific sea rescue sequences, of which there are very few I just did not care about any of the characters. Most of us have ghosts in the closet, and Costner's character are realized early on, and then forgotten until much later, by which time I did not care. The character we should really care about is a very cocky, overconfident Ashton Kutcher. The problem is he comes off as kid who thinks he's better than anyone else around him and shows no signs of a cluttered closet. His only obstacle appears to be winning over Costner. Finally when we are well past the half way point of this stinker, Costner tells us all about Kutcher's ghosts. We are told why Kutcher is driven to be the best with no prior inkling or foreshadowing. No magic here, it was all I could do to keep from turning it off an hour in.</td>\n",
              "      <td>neg</td>\n",
              "      <td>once again mr costner has dragged out a movie for far longer than necessary aside from the terrific sea rescue sequences of which there are very few i just did not care about any of the characters most of us have ghosts in the closet and costner's character are realized early on and then forgotten until much later by which time i did not care the character we should really care about is a very cocky overconfident ashton kutcher the problem is he comes off as kid who thinks he's better than anyone else around him and shows no signs of a cluttered closet his only obstacle appears to be winning over costner finally when we are well past the half way point of this stinker costner tells us all about kutcher's ghosts we are told why kutcher is driven to be the best with no prior inkling or foreshadowing no magic here it was all i could do to keep from turning it off an hour in</td>\n",
              "    </tr>\n",
              "  </tbody>\n",
              "</table>\n",
              "</div>\n",
              "    <div class=\"colab-df-buttons\">\n",
              "\n",
              "  <div class=\"colab-df-container\">\n",
              "    <button class=\"colab-df-convert\" onclick=\"convertToInteractive('df-84466983-eeab-4cf6-9a37-28f36661cf6e')\"\n",
              "            title=\"Convert this dataframe to an interactive table.\"\n",
              "            style=\"display:none;\">\n",
              "\n",
              "  <svg xmlns=\"http://www.w3.org/2000/svg\" height=\"24px\" viewBox=\"0 -960 960 960\">\n",
              "    <path d=\"M120-120v-720h720v720H120Zm60-500h600v-160H180v160Zm220 220h160v-160H400v160Zm0 220h160v-160H400v160ZM180-400h160v-160H180v160Zm440 0h160v-160H620v160ZM180-180h160v-160H180v160Zm440 0h160v-160H620v160Z\"/>\n",
              "  </svg>\n",
              "    </button>\n",
              "\n",
              "  <style>\n",
              "    .colab-df-container {\n",
              "      display:flex;\n",
              "      gap: 12px;\n",
              "    }\n",
              "\n",
              "    .colab-df-convert {\n",
              "      background-color: #E8F0FE;\n",
              "      border: none;\n",
              "      border-radius: 50%;\n",
              "      cursor: pointer;\n",
              "      display: none;\n",
              "      fill: #1967D2;\n",
              "      height: 32px;\n",
              "      padding: 0 0 0 0;\n",
              "      width: 32px;\n",
              "    }\n",
              "\n",
              "    .colab-df-convert:hover {\n",
              "      background-color: #E2EBFA;\n",
              "      box-shadow: 0px 1px 2px rgba(60, 64, 67, 0.3), 0px 1px 3px 1px rgba(60, 64, 67, 0.15);\n",
              "      fill: #174EA6;\n",
              "    }\n",
              "\n",
              "    .colab-df-buttons div {\n",
              "      margin-bottom: 4px;\n",
              "    }\n",
              "\n",
              "    [theme=dark] .colab-df-convert {\n",
              "      background-color: #3B4455;\n",
              "      fill: #D2E3FC;\n",
              "    }\n",
              "\n",
              "    [theme=dark] .colab-df-convert:hover {\n",
              "      background-color: #434B5C;\n",
              "      box-shadow: 0px 1px 3px 1px rgba(0, 0, 0, 0.15);\n",
              "      filter: drop-shadow(0px 1px 2px rgba(0, 0, 0, 0.3));\n",
              "      fill: #FFFFFF;\n",
              "    }\n",
              "  </style>\n",
              "\n",
              "    <script>\n",
              "      const buttonEl =\n",
              "        document.querySelector('#df-84466983-eeab-4cf6-9a37-28f36661cf6e button.colab-df-convert');\n",
              "      buttonEl.style.display =\n",
              "        google.colab.kernel.accessAllowed ? 'block' : 'none';\n",
              "\n",
              "      async function convertToInteractive(key) {\n",
              "        const element = document.querySelector('#df-84466983-eeab-4cf6-9a37-28f36661cf6e');\n",
              "        const dataTable =\n",
              "          await google.colab.kernel.invokeFunction('convertToInteractive',\n",
              "                                                    [key], {});\n",
              "        if (!dataTable) return;\n",
              "\n",
              "        const docLinkHtml = 'Like what you see? Visit the ' +\n",
              "          '<a target=\"_blank\" href=https://colab.research.google.com/notebooks/data_table.ipynb>data table notebook</a>'\n",
              "          + ' to learn more about interactive tables.';\n",
              "        element.innerHTML = '';\n",
              "        dataTable['output_type'] = 'display_data';\n",
              "        await google.colab.output.renderOutput(dataTable, element);\n",
              "        const docLink = document.createElement('div');\n",
              "        docLink.innerHTML = docLinkHtml;\n",
              "        element.appendChild(docLink);\n",
              "      }\n",
              "    </script>\n",
              "  </div>\n",
              "\n",
              "    </div>\n",
              "  </div>\n"
            ],
            "application/vnd.google.colaboratory.intrinsic+json": {
              "type": "dataframe",
              "variable_name": "df",
              "summary": "{\n  \"name\": \"df\",\n  \"rows\": 50000,\n  \"fields\": [\n    {\n      \"column\": \"review\",\n      \"properties\": {\n        \"dtype\": \"string\",\n        \"num_unique_values\": 49582,\n        \"samples\": [\n          \"Only reason I have seen 101 Dalmatians was its nominations for original song and costume design for the Oscars. I must admit that I was less than impressed with this film. In this sequel, Cruella DeVil(by the way Glen Close pulls off this role very well) is released from the hospital due to her good behaviour. She likes all sort of animals and locks all her furs away. From that point, we only wait until she starts having crises. Soon enough, she does and tries to make the best coat of fashion world, of course for herself and from fine Dalmatian fur. Apart from Glen Close, I found all cast quite silly but from a child's eye funny. That is fair enough as its target market is, I assume, children under 12. Quite a good entertainment for children and families, but didn't do much for me. * out of *****\",\n          \"Alain Chabat claims this movie as his original idea but the theme of reluctant lovers who finally get it together is as old, if not older, than Shakespeare.<br /><br />Chabat is a \\\"vieux garcon\\\", happily single and not wanting any member of the opposite sex to disturb his life. He has a problem, 5 sisters and a matriarchal mum - the G7 - who decide he should be married. Enter the delightful, charming Charlotte Gainsbourg and what should be a simple plan. Charlotte has to pose as Chabat's girlfriend and then simply not turn up on the day of the wedding. No more talk of marriage from the G7. Of course the best laid plans have a habit of spiralling out of control.<br /><br />There are very strong supporting roles from Lafont as the mother and Osterman as the tight-fisted brother of Gainsbourg.<br /><br />There are some fantastic scenes as first Charlotte has to charm, then revolt the family. French farce with an English.\",\n          \"I kind of liked The Lonely Lady. Give Pia a break. She looks great and she has really nice eyes. What's not to like? The scene where she gets raped by Ray Liotta with a garden hose was kind of gross and cruel. Actually, a LOT of stuff that happens in this movie is gross and cruel. But its a trashy movie. A lot of movies that are trashy are not all bad. I liked this better than Valley of the Dolls, which was not only trashy but boring as well. At least this wasn't boring.<br /><br />Pia gets naked a lot and seems miscast as a writer. Watching her talk about Pushkin and Byron with a guy three times her age is flat unbelievable. I'm sure Pia's a nice person in real life, she just doesn't project the writer vibe. She looked much happier when she was working as a hostess for that guy from Saturday Night Fever and wearing a glittery disco dress.<br /><br />A couple of the scenes are funny. The one where she tells the two-timing actor that she's pregnant and he rolls his eyes and snaps at her to \\\"stop hanging around!\\\", all the while he's practically fawning over every bimbo who flounces by.<br /><br />Pia's nervous breakdown scene is good. It was probably a mistake to go so supernova on it (the vortex of floating faces and freeze-frame scream - whoa!) and her subsequent catatonic stupor is kind of overdone.<br /><br />The acceptance speech is a hoot, though. I want to see someone do that speech in a drama class.<br /><br />But, again, this is trash we're talking about. You could find worse on any movie of the week back in the eighties.\"\n        ],\n        \"semantic_type\": \"\",\n        \"description\": \"\"\n      }\n    },\n    {\n      \"column\": \"label\",\n      \"properties\": {\n        \"dtype\": \"category\",\n        \"num_unique_values\": 2,\n        \"samples\": [\n          \"pos\",\n          \"neg\"\n        ],\n        \"semantic_type\": \"\",\n        \"description\": \"\"\n      }\n    },\n    {\n      \"column\": \"processed_review\",\n      \"properties\": {\n        \"dtype\": \"string\",\n        \"num_unique_values\": 49581,\n        \"samples\": [\n          \"this is one of the first independent movies i've ever seen for such a very low budget it was done well as an insomniac myself i can sympathize with the main character although my sleeping problems have never been as intense or as disturbing br br well directed well acted of a subject that i haven't seen much in theaters lighting and set both perfect for the movie setting there are few noticeable goofs but they may be intended you'll see after you watch the movie the movie is very personal and worth watching twice no movie is flawless but a hollywood version couldn't do the story better all in all 810\",\n          \"we rented the dvd hoping for a good western the film was pretty and the scenes reasonable but the ideas were very bad here are my problems with the filmbr br in the first part why exactly did the bad guy kill the mine owner not really connected to the movie except to establish how bad he was and to have a hideoutbr br the bank employee gone bad just acts too poorly to convincingly decide to hire killers to off his employers at least keep us guessing no character developed at all for the bank owners or the bank employeebr br very long delay in much of anything happeningbr br absurd premise that martin still needed to see the judge after the gang confessed to killing the inlaws even more absurd that he confesses to judge and judge will not listen to the sheriff guy even more ridiculous that martin his hung and rope breaks then the sheriff takes him at gunpoint to finally head back to his town and save his wife from the bad bank employee wouldn't he just return after the quick dispatch of the gang to save wife and arrest bad bank guy just send the judge a note that gang confessed before being killed on trail overall very sad acting and no point to movie\"\n        ],\n        \"semantic_type\": \"\",\n        \"description\": \"\"\n      }\n    }\n  ]\n}"
            }
          },
          "metadata": {},
          "execution_count": 41
        }
      ]
    },
    {
      "cell_type": "code",
      "source": [
        "df['final_data'] = \"__label__\"+df['label']+\" \"+df['processed_review']\n"
      ],
      "metadata": {
        "id": "SKJPpPn6PF0z"
      },
      "execution_count": 42,
      "outputs": []
    },
    {
      "cell_type": "code",
      "source": [
        "df.head()"
      ],
      "metadata": {
        "colab": {
          "base_uri": "https://localhost:8080/",
          "height": 1000
        },
        "id": "OuPCJA4IP8Ed",
        "outputId": "4784289f-4bf9-4b5b-a6b6-3dcc9947a2dd"
      },
      "execution_count": 43,
      "outputs": [
        {
          "output_type": "execute_result",
          "data": {
            "text/plain": [
              "                                                                                                                                                                                                                                                                                                                                                                                                                                                                                                                                                                                                                                                                                                                                                                                                                                                                                                                                                                                                                                                                                                                                                                                                                                                                                                                                                                                                                                                                                                                                                                                                                                                                                                                                      review  \\\n",
              "0  Once again Mr. Costner has dragged out a movie for far longer than necessary. Aside from the terrific sea rescue sequences, of which there are very few I just did not care about any of the characters. Most of us have ghosts in the closet, and Costner's character are realized early on, and then forgotten until much later, by which time I did not care. The character we should really care about is a very cocky, overconfident Ashton Kutcher. The problem is he comes off as kid who thinks he's better than anyone else around him and shows no signs of a cluttered closet. His only obstacle appears to be winning over Costner. Finally when we are well past the half way point of this stinker, Costner tells us all about Kutcher's ghosts. We are told why Kutcher is driven to be the best with no prior inkling or foreshadowing. No magic here, it was all I could do to keep from turning it off an hour in.                                                                                                                                                                                                                                                                                                                                                                                                                                                                                                                                                                                                                                                                                                                                                                                                        \n",
              "1  This is an example of why the majority of action films are the same. Generic and boring, there's really nothing worth watching here. A complete waste of the then barely-tapped talents of Ice-T and Ice Cube, who've each proven many times over that they are capable of acting, and acting well. Don't bother with this one, go see New Jack City, Ricochet or watch New York Undercover for Ice-T, or Boyz n the Hood, Higher Learning or Friday for Ice Cube and see the real deal. Ice-T's horribly cliched dialogue alone makes this film grate at the teeth, and I'm still wondering what the heck Bill Paxton was doing in this film? And why the heck does he always play the exact same character? From Aliens onward, every film I've seen with Bill Paxton has him playing the exact same irritating character, and at least in Aliens his character died, which made it somewhat gratifying...<br /><br />Overall, this is second-rate action trash. There are countless better films to see, and if you really want to see this one, watch Judgement Night, which is practically a carbon copy but has better acting and a better script. The only thing that made this at all worth watching was a decent hand on the camera - the cinematography was almost refreshing, which comes close to making up for the horrible film itself - but not quite. 4/10.                                                                                                                                                                                                                                                                                                                                                                 \n",
              "2  First of all I hate those moronic rappers, who could'nt act if they had a gun pressed against their foreheads. All they do is curse and shoot each other and acting like clichÃ©'e version of gangsters.<br /><br />The movie doesn't take more than five minutes to explain what is going on before we're already at the warehouse There is not a single sympathetic character in this movie, except for the homeless guy, who is also the only one with half a brain.<br /><br />Bill Paxton and William Sadler are both hill billies and Sadlers character is just as much a villain as the gangsters. I did'nt like him right from the start.<br /><br />The movie is filled with pointless violence and Walter Hills specialty: people falling through windows with glass flying everywhere. There is pretty much no plot and it is a big problem when you root for no-one. Everybody dies, except from Paxton and the homeless guy and everybody get what they deserve.<br /><br />The only two black people that can act is the homeless guy and the junkie but they're actors by profession, not annoying ugly brain dead rappers.<br /><br />Stay away from this crap and watch 48 hours 1 and 2 instead. At lest they have characters you care about, a sense of humor and nothing but real actors in the cast.                                                                                                                                                                                                                                                                                                                                                                                                                   \n",
              "3  Not even the Beatles could write songs everyone liked, and although Walter Hill is no mop-top he's second to none when it comes to thought provoking action movies. The nineties came and social platforms were changing in music and film, the emergence of the Rapper turned movie star was in full swing, the acting took a back seat to each man's overpowering regional accent and transparent acting. This was one of the many ice-t movies i saw as a kid and loved, only to watch them later and cringe. Bill Paxton and William Sadler are firemen with basic lives until a burning building tenant about to go up in flames hands over a map with gold implications. I hand it to Walter for quickly and neatly setting up the main characters and location. But i fault everyone involved for turning out Lame-o performances. Ice-t and cube must have been red hot at this time, and while I've enjoyed both their careers as rappers, in my opinion they fell flat in this movie. It's about ninety minutes of one guy ridiculously turning his back on the other guy to the point you find yourself locked in multiple states of disbelief. Now this is a movie, its not a documentary so i wont waste my time recounting all the stupid plot twists in this movie, but there were many, and they led nowhere. I got the feeling watching this that everyone on set was sord of confused and just playing things off the cuff. There are two things i still enjoy about it, one involves a scene with a needle and the other is Sadler's huge 45 pistol. Bottom line this movie is like domino's pizza. Yeah ill eat it if I'm hungry and i don't feel like cooking, But I'm well aware it tastes like crap. 3 stars, meh.   \n",
              "4  Brass pictures (movies is not a fitting word for them) really are somewhat brassy. Their alluring visual qualities are reminiscent of expensive high class TV commercials. But unfortunately Brass pictures are feature films with the pretense of wanting to entertain viewers for over two hours! In this they fail miserably, their undeniable, but rather soft and flabby than steamy, erotic qualities non withstanding.<br /><br />Senso '45 is a remake of a film by Luchino Visconti with the same title and Alida Valli and Farley Granger in the lead. The original tells a story of senseless love and lust in and around Venice during the Italian wars of independence. Brass moved the action from the 19th into the 20th century, 1945 to be exact, so there are Mussolini murals, men in black shirts, German uniforms or the tattered garb of the partisans. But it is just window dressing, the historic context is completely negligible.<br /><br />Anna Galiena plays the attractive aristocratic woman who falls for the amoral SS guy who always puts on too much lipstick. She is an attractive, versatile, well trained Italian actress and clearly above the material. Her wide range of facial expressions (signalling boredom, loathing, delight, fear, hate ... and ecstasy) are the best reason to watch this picture and worth two stars. She endures this basically trashy stuff with an astonishing amount of dignity. I wish some really good parts come along for her. She really deserves it.                                                                                                                                                                                                           \n",
              "\n",
              "  label  \\\n",
              "0  neg    \n",
              "1  neg    \n",
              "2  neg    \n",
              "3  neg    \n",
              "4  neg    \n",
              "\n",
              "                                                                                                                                                                                                                                                                                                                                                                                                                                                                                                                                                                                                                                                                                                                                                                                                                                                                                                                                                                                                                                                                                                                                                                                                                                                                                                                                                                                                                                                                                                                                                                                                                                                                                              processed_review  \\\n",
              "0  once again mr costner has dragged out a movie for far longer than necessary aside from the terrific sea rescue sequences of which there are very few i just did not care about any of the characters most of us have ghosts in the closet and costner's character are realized early on and then forgotten until much later by which time i did not care the character we should really care about is a very cocky overconfident ashton kutcher the problem is he comes off as kid who thinks he's better than anyone else around him and shows no signs of a cluttered closet his only obstacle appears to be winning over costner finally when we are well past the half way point of this stinker costner tells us all about kutcher's ghosts we are told why kutcher is driven to be the best with no prior inkling or foreshadowing no magic here it was all i could do to keep from turning it off an hour in                                                                                                                                                                                                                                                                                                                                                                                                                                                                                                                                                                                                                                                                                                                                                                                           \n",
              "1  this is an example of why the majority of action films are the same generic and boring there's really nothing worth watching here a complete waste of the then barelytapped talents of icet and ice cube who've each proven many times over that they are capable of acting and acting well don't bother with this one go see new jack city ricochet or watch new york undercover for icet or boyz n the hood higher learning or friday for ice cube and see the real deal icet's horribly cliched dialogue alone makes this film grate at the teeth and i'm still wondering what the heck bill paxton was doing in this film and why the heck does he always play the exact same character from aliens onward every film i've seen with bill paxton has him playing the exact same irritating character and at least in aliens his character died which made it somewhat gratifyingbr br overall this is secondrate action trash there are countless better films to see and if you really want to see this one watch judgement night which is practically a carbon copy but has better acting and a better script the only thing that made this at all worth watching was a decent hand on the camera the cinematography was almost refreshing which comes close to making up for the horrible film itself but not quite 410                                                                                                                                                                                                                                                                                                                                                                                \n",
              "2  first of all i hate those moronic rappers who could'nt act if they had a gun pressed against their foreheads all they do is curse and shoot each other and acting like clichã'e version of gangstersbr br the movie doesn't take more than five minutes to explain what is going on before we're already at the warehouse there is not a single sympathetic character in this movie except for the homeless guy who is also the only one with half a brainbr br bill paxton and william sadler are both hill billies and sadlers character is just as much a villain as the gangsters i did'nt like him right from the startbr br the movie is filled with pointless violence and walter hills specialty people falling through windows with glass flying everywhere there is pretty much no plot and it is a big problem when you root for noone everybody dies except from paxton and the homeless guy and everybody get what they deservebr br the only two black people that can act is the homeless guy and the junkie but they're actors by profession not annoying ugly brain dead rappersbr br stay away from this crap and watch 48 hours 1 and 2 instead at lest they have characters you care about a sense of humor and nothing but real actors in the cast                                                                                                                                                                                                                                                                                                                                                                                                                                       \n",
              "3  not even the beatles could write songs everyone liked and although walter hill is no moptop he's second to none when it comes to thought provoking action movies the nineties came and social platforms were changing in music and film the emergence of the rapper turned movie star was in full swing the acting took a back seat to each man's overpowering regional accent and transparent acting this was one of the many icet movies i saw as a kid and loved only to watch them later and cringe bill paxton and william sadler are firemen with basic lives until a burning building tenant about to go up in flames hands over a map with gold implications i hand it to walter for quickly and neatly setting up the main characters and location but i fault everyone involved for turning out lameo performances icet and cube must have been red hot at this time and while i've enjoyed both their careers as rappers in my opinion they fell flat in this movie it's about ninety minutes of one guy ridiculously turning his back on the other guy to the point you find yourself locked in multiple states of disbelief now this is a movie its not a documentary so i wont waste my time recounting all the stupid plot twists in this movie but there were many and they led nowhere i got the feeling watching this that everyone on set was sord of confused and just playing things off the cuff there are two things i still enjoy about it one involves a scene with a needle and the other is sadler's huge 45 pistol bottom line this movie is like domino's pizza yeah ill eat it if i'm hungry and i don't feel like cooking but i'm well aware it tastes like crap 3 stars meh   \n",
              "4  brass pictures movies is not a fitting word for them really are somewhat brassy their alluring visual qualities are reminiscent of expensive high class tv commercials but unfortunately brass pictures are feature films with the pretense of wanting to entertain viewers for over two hours in this they fail miserably their undeniable but rather soft and flabby than steamy erotic qualities non withstandingbr br senso '45 is a remake of a film by luchino visconti with the same title and alida valli and farley granger in the lead the original tells a story of senseless love and lust in and around venice during the italian wars of independence brass moved the action from the 19th into the 20th century 1945 to be exact so there are mussolini murals men in black shirts german uniforms or the tattered garb of the partisans but it is just window dressing the historic context is completely negligiblebr br anna galiena plays the attractive aristocratic woman who falls for the amoral ss guy who always puts on too much lipstick she is an attractive versatile well trained italian actress and clearly above the material her wide range of facial expressions signalling boredom loathing delight fear hate and ecstasy are the best reason to watch this picture and worth two stars she endures this basically trashy stuff with an astonishing amount of dignity i wish some really good parts come along for her she really deserves it                                                                                                                                                                                                                             \n",
              "\n",
              "                                                                                                                                                                                                                                                                                                                                                                                                                                                                                                                                                                                                                                                                                                                                                                                                                                                                                                                                                                                                                                                                                                                                                                                                                                                                                                                                                                                                                                                                                                                                                                                                                                                                                                                 final_data  \n",
              "0  __label__neg once again mr costner has dragged out a movie for far longer than necessary aside from the terrific sea rescue sequences of which there are very few i just did not care about any of the characters most of us have ghosts in the closet and costner's character are realized early on and then forgotten until much later by which time i did not care the character we should really care about is a very cocky overconfident ashton kutcher the problem is he comes off as kid who thinks he's better than anyone else around him and shows no signs of a cluttered closet his only obstacle appears to be winning over costner finally when we are well past the half way point of this stinker costner tells us all about kutcher's ghosts we are told why kutcher is driven to be the best with no prior inkling or foreshadowing no magic here it was all i could do to keep from turning it off an hour in                                                                                                                                                                                                                                                                                                                                                                                                                                                                                                                                                                                                                                                                                                                                                                                          \n",
              "1  __label__neg this is an example of why the majority of action films are the same generic and boring there's really nothing worth watching here a complete waste of the then barelytapped talents of icet and ice cube who've each proven many times over that they are capable of acting and acting well don't bother with this one go see new jack city ricochet or watch new york undercover for icet or boyz n the hood higher learning or friday for ice cube and see the real deal icet's horribly cliched dialogue alone makes this film grate at the teeth and i'm still wondering what the heck bill paxton was doing in this film and why the heck does he always play the exact same character from aliens onward every film i've seen with bill paxton has him playing the exact same irritating character and at least in aliens his character died which made it somewhat gratifyingbr br overall this is secondrate action trash there are countless better films to see and if you really want to see this one watch judgement night which is practically a carbon copy but has better acting and a better script the only thing that made this at all worth watching was a decent hand on the camera the cinematography was almost refreshing which comes close to making up for the horrible film itself but not quite 410                                                                                                                                                                                                                                                                                                                                                                               \n",
              "2  __label__neg first of all i hate those moronic rappers who could'nt act if they had a gun pressed against their foreheads all they do is curse and shoot each other and acting like clichã'e version of gangstersbr br the movie doesn't take more than five minutes to explain what is going on before we're already at the warehouse there is not a single sympathetic character in this movie except for the homeless guy who is also the only one with half a brainbr br bill paxton and william sadler are both hill billies and sadlers character is just as much a villain as the gangsters i did'nt like him right from the startbr br the movie is filled with pointless violence and walter hills specialty people falling through windows with glass flying everywhere there is pretty much no plot and it is a big problem when you root for noone everybody dies except from paxton and the homeless guy and everybody get what they deservebr br the only two black people that can act is the homeless guy and the junkie but they're actors by profession not annoying ugly brain dead rappersbr br stay away from this crap and watch 48 hours 1 and 2 instead at lest they have characters you care about a sense of humor and nothing but real actors in the cast                                                                                                                                                                                                                                                                                                                                                                                                                                      \n",
              "3  __label__neg not even the beatles could write songs everyone liked and although walter hill is no moptop he's second to none when it comes to thought provoking action movies the nineties came and social platforms were changing in music and film the emergence of the rapper turned movie star was in full swing the acting took a back seat to each man's overpowering regional accent and transparent acting this was one of the many icet movies i saw as a kid and loved only to watch them later and cringe bill paxton and william sadler are firemen with basic lives until a burning building tenant about to go up in flames hands over a map with gold implications i hand it to walter for quickly and neatly setting up the main characters and location but i fault everyone involved for turning out lameo performances icet and cube must have been red hot at this time and while i've enjoyed both their careers as rappers in my opinion they fell flat in this movie it's about ninety minutes of one guy ridiculously turning his back on the other guy to the point you find yourself locked in multiple states of disbelief now this is a movie its not a documentary so i wont waste my time recounting all the stupid plot twists in this movie but there were many and they led nowhere i got the feeling watching this that everyone on set was sord of confused and just playing things off the cuff there are two things i still enjoy about it one involves a scene with a needle and the other is sadler's huge 45 pistol bottom line this movie is like domino's pizza yeah ill eat it if i'm hungry and i don't feel like cooking but i'm well aware it tastes like crap 3 stars meh  \n",
              "4  __label__neg brass pictures movies is not a fitting word for them really are somewhat brassy their alluring visual qualities are reminiscent of expensive high class tv commercials but unfortunately brass pictures are feature films with the pretense of wanting to entertain viewers for over two hours in this they fail miserably their undeniable but rather soft and flabby than steamy erotic qualities non withstandingbr br senso '45 is a remake of a film by luchino visconti with the same title and alida valli and farley granger in the lead the original tells a story of senseless love and lust in and around venice during the italian wars of independence brass moved the action from the 19th into the 20th century 1945 to be exact so there are mussolini murals men in black shirts german uniforms or the tattered garb of the partisans but it is just window dressing the historic context is completely negligiblebr br anna galiena plays the attractive aristocratic woman who falls for the amoral ss guy who always puts on too much lipstick she is an attractive versatile well trained italian actress and clearly above the material her wide range of facial expressions signalling boredom loathing delight fear hate and ecstasy are the best reason to watch this picture and worth two stars she endures this basically trashy stuff with an astonishing amount of dignity i wish some really good parts come along for her she really deserves it                                                                                                                                                                                                                            "
            ],
            "text/html": [
              "\n",
              "  <div id=\"df-ba0195c2-8880-4fd9-9f8b-cd771feb0709\" class=\"colab-df-container\">\n",
              "    <div>\n",
              "<style scoped>\n",
              "    .dataframe tbody tr th:only-of-type {\n",
              "        vertical-align: middle;\n",
              "    }\n",
              "\n",
              "    .dataframe tbody tr th {\n",
              "        vertical-align: top;\n",
              "    }\n",
              "\n",
              "    .dataframe thead th {\n",
              "        text-align: right;\n",
              "    }\n",
              "</style>\n",
              "<table border=\"1\" class=\"dataframe\">\n",
              "  <thead>\n",
              "    <tr style=\"text-align: right;\">\n",
              "      <th></th>\n",
              "      <th>review</th>\n",
              "      <th>label</th>\n",
              "      <th>processed_review</th>\n",
              "      <th>final_data</th>\n",
              "    </tr>\n",
              "  </thead>\n",
              "  <tbody>\n",
              "    <tr>\n",
              "      <th>0</th>\n",
              "      <td>Once again Mr. Costner has dragged out a movie for far longer than necessary. Aside from the terrific sea rescue sequences, of which there are very few I just did not care about any of the characters. Most of us have ghosts in the closet, and Costner's character are realized early on, and then forgotten until much later, by which time I did not care. The character we should really care about is a very cocky, overconfident Ashton Kutcher. The problem is he comes off as kid who thinks he's better than anyone else around him and shows no signs of a cluttered closet. His only obstacle appears to be winning over Costner. Finally when we are well past the half way point of this stinker, Costner tells us all about Kutcher's ghosts. We are told why Kutcher is driven to be the best with no prior inkling or foreshadowing. No magic here, it was all I could do to keep from turning it off an hour in.</td>\n",
              "      <td>neg</td>\n",
              "      <td>once again mr costner has dragged out a movie for far longer than necessary aside from the terrific sea rescue sequences of which there are very few i just did not care about any of the characters most of us have ghosts in the closet and costner's character are realized early on and then forgotten until much later by which time i did not care the character we should really care about is a very cocky overconfident ashton kutcher the problem is he comes off as kid who thinks he's better than anyone else around him and shows no signs of a cluttered closet his only obstacle appears to be winning over costner finally when we are well past the half way point of this stinker costner tells us all about kutcher's ghosts we are told why kutcher is driven to be the best with no prior inkling or foreshadowing no magic here it was all i could do to keep from turning it off an hour in</td>\n",
              "      <td>__label__neg once again mr costner has dragged out a movie for far longer than necessary aside from the terrific sea rescue sequences of which there are very few i just did not care about any of the characters most of us have ghosts in the closet and costner's character are realized early on and then forgotten until much later by which time i did not care the character we should really care about is a very cocky overconfident ashton kutcher the problem is he comes off as kid who thinks he's better than anyone else around him and shows no signs of a cluttered closet his only obstacle appears to be winning over costner finally when we are well past the half way point of this stinker costner tells us all about kutcher's ghosts we are told why kutcher is driven to be the best with no prior inkling or foreshadowing no magic here it was all i could do to keep from turning it off an hour in</td>\n",
              "    </tr>\n",
              "    <tr>\n",
              "      <th>1</th>\n",
              "      <td>This is an example of why the majority of action films are the same. Generic and boring, there's really nothing worth watching here. A complete waste of the then barely-tapped talents of Ice-T and Ice Cube, who've each proven many times over that they are capable of acting, and acting well. Don't bother with this one, go see New Jack City, Ricochet or watch New York Undercover for Ice-T, or Boyz n the Hood, Higher Learning or Friday for Ice Cube and see the real deal. Ice-T's horribly cliched dialogue alone makes this film grate at the teeth, and I'm still wondering what the heck Bill Paxton was doing in this film? And why the heck does he always play the exact same character? From Aliens onward, every film I've seen with Bill Paxton has him playing the exact same irritating character, and at least in Aliens his character died, which made it somewhat gratifying...&lt;br /&gt;&lt;br /&gt;Overall, this is second-rate action trash. There are countless better films to see, and if you really want to see this one, watch Judgement Night, which is practically a carbon copy but has better acting and a better script. The only thing that made this at all worth watching was a decent hand on the camera - the cinematography was almost refreshing, which comes close to making up for the horrible film itself - but not quite. 4/10.</td>\n",
              "      <td>neg</td>\n",
              "      <td>this is an example of why the majority of action films are the same generic and boring there's really nothing worth watching here a complete waste of the then barelytapped talents of icet and ice cube who've each proven many times over that they are capable of acting and acting well don't bother with this one go see new jack city ricochet or watch new york undercover for icet or boyz n the hood higher learning or friday for ice cube and see the real deal icet's horribly cliched dialogue alone makes this film grate at the teeth and i'm still wondering what the heck bill paxton was doing in this film and why the heck does he always play the exact same character from aliens onward every film i've seen with bill paxton has him playing the exact same irritating character and at least in aliens his character died which made it somewhat gratifyingbr br overall this is secondrate action trash there are countless better films to see and if you really want to see this one watch judgement night which is practically a carbon copy but has better acting and a better script the only thing that made this at all worth watching was a decent hand on the camera the cinematography was almost refreshing which comes close to making up for the horrible film itself but not quite 410</td>\n",
              "      <td>__label__neg this is an example of why the majority of action films are the same generic and boring there's really nothing worth watching here a complete waste of the then barelytapped talents of icet and ice cube who've each proven many times over that they are capable of acting and acting well don't bother with this one go see new jack city ricochet or watch new york undercover for icet or boyz n the hood higher learning or friday for ice cube and see the real deal icet's horribly cliched dialogue alone makes this film grate at the teeth and i'm still wondering what the heck bill paxton was doing in this film and why the heck does he always play the exact same character from aliens onward every film i've seen with bill paxton has him playing the exact same irritating character and at least in aliens his character died which made it somewhat gratifyingbr br overall this is secondrate action trash there are countless better films to see and if you really want to see this one watch judgement night which is practically a carbon copy but has better acting and a better script the only thing that made this at all worth watching was a decent hand on the camera the cinematography was almost refreshing which comes close to making up for the horrible film itself but not quite 410</td>\n",
              "    </tr>\n",
              "    <tr>\n",
              "      <th>2</th>\n",
              "      <td>First of all I hate those moronic rappers, who could'nt act if they had a gun pressed against their foreheads. All they do is curse and shoot each other and acting like clichÃ©'e version of gangsters.&lt;br /&gt;&lt;br /&gt;The movie doesn't take more than five minutes to explain what is going on before we're already at the warehouse There is not a single sympathetic character in this movie, except for the homeless guy, who is also the only one with half a brain.&lt;br /&gt;&lt;br /&gt;Bill Paxton and William Sadler are both hill billies and Sadlers character is just as much a villain as the gangsters. I did'nt like him right from the start.&lt;br /&gt;&lt;br /&gt;The movie is filled with pointless violence and Walter Hills specialty: people falling through windows with glass flying everywhere. There is pretty much no plot and it is a big problem when you root for no-one. Everybody dies, except from Paxton and the homeless guy and everybody get what they deserve.&lt;br /&gt;&lt;br /&gt;The only two black people that can act is the homeless guy and the junkie but they're actors by profession, not annoying ugly brain dead rappers.&lt;br /&gt;&lt;br /&gt;Stay away from this crap and watch 48 hours 1 and 2 instead. At lest they have characters you care about, a sense of humor and nothing but real actors in the cast.</td>\n",
              "      <td>neg</td>\n",
              "      <td>first of all i hate those moronic rappers who could'nt act if they had a gun pressed against their foreheads all they do is curse and shoot each other and acting like clichã'e version of gangstersbr br the movie doesn't take more than five minutes to explain what is going on before we're already at the warehouse there is not a single sympathetic character in this movie except for the homeless guy who is also the only one with half a brainbr br bill paxton and william sadler are both hill billies and sadlers character is just as much a villain as the gangsters i did'nt like him right from the startbr br the movie is filled with pointless violence and walter hills specialty people falling through windows with glass flying everywhere there is pretty much no plot and it is a big problem when you root for noone everybody dies except from paxton and the homeless guy and everybody get what they deservebr br the only two black people that can act is the homeless guy and the junkie but they're actors by profession not annoying ugly brain dead rappersbr br stay away from this crap and watch 48 hours 1 and 2 instead at lest they have characters you care about a sense of humor and nothing but real actors in the cast</td>\n",
              "      <td>__label__neg first of all i hate those moronic rappers who could'nt act if they had a gun pressed against their foreheads all they do is curse and shoot each other and acting like clichã'e version of gangstersbr br the movie doesn't take more than five minutes to explain what is going on before we're already at the warehouse there is not a single sympathetic character in this movie except for the homeless guy who is also the only one with half a brainbr br bill paxton and william sadler are both hill billies and sadlers character is just as much a villain as the gangsters i did'nt like him right from the startbr br the movie is filled with pointless violence and walter hills specialty people falling through windows with glass flying everywhere there is pretty much no plot and it is a big problem when you root for noone everybody dies except from paxton and the homeless guy and everybody get what they deservebr br the only two black people that can act is the homeless guy and the junkie but they're actors by profession not annoying ugly brain dead rappersbr br stay away from this crap and watch 48 hours 1 and 2 instead at lest they have characters you care about a sense of humor and nothing but real actors in the cast</td>\n",
              "    </tr>\n",
              "    <tr>\n",
              "      <th>3</th>\n",
              "      <td>Not even the Beatles could write songs everyone liked, and although Walter Hill is no mop-top he's second to none when it comes to thought provoking action movies. The nineties came and social platforms were changing in music and film, the emergence of the Rapper turned movie star was in full swing, the acting took a back seat to each man's overpowering regional accent and transparent acting. This was one of the many ice-t movies i saw as a kid and loved, only to watch them later and cringe. Bill Paxton and William Sadler are firemen with basic lives until a burning building tenant about to go up in flames hands over a map with gold implications. I hand it to Walter for quickly and neatly setting up the main characters and location. But i fault everyone involved for turning out Lame-o performances. Ice-t and cube must have been red hot at this time, and while I've enjoyed both their careers as rappers, in my opinion they fell flat in this movie. It's about ninety minutes of one guy ridiculously turning his back on the other guy to the point you find yourself locked in multiple states of disbelief. Now this is a movie, its not a documentary so i wont waste my time recounting all the stupid plot twists in this movie, but there were many, and they led nowhere. I got the feeling watching this that everyone on set was sord of confused and just playing things off the cuff. There are two things i still enjoy about it, one involves a scene with a needle and the other is Sadler's huge 45 pistol. Bottom line this movie is like domino's pizza. Yeah ill eat it if I'm hungry and i don't feel like cooking, But I'm well aware it tastes like crap. 3 stars, meh.</td>\n",
              "      <td>neg</td>\n",
              "      <td>not even the beatles could write songs everyone liked and although walter hill is no moptop he's second to none when it comes to thought provoking action movies the nineties came and social platforms were changing in music and film the emergence of the rapper turned movie star was in full swing the acting took a back seat to each man's overpowering regional accent and transparent acting this was one of the many icet movies i saw as a kid and loved only to watch them later and cringe bill paxton and william sadler are firemen with basic lives until a burning building tenant about to go up in flames hands over a map with gold implications i hand it to walter for quickly and neatly setting up the main characters and location but i fault everyone involved for turning out lameo performances icet and cube must have been red hot at this time and while i've enjoyed both their careers as rappers in my opinion they fell flat in this movie it's about ninety minutes of one guy ridiculously turning his back on the other guy to the point you find yourself locked in multiple states of disbelief now this is a movie its not a documentary so i wont waste my time recounting all the stupid plot twists in this movie but there were many and they led nowhere i got the feeling watching this that everyone on set was sord of confused and just playing things off the cuff there are two things i still enjoy about it one involves a scene with a needle and the other is sadler's huge 45 pistol bottom line this movie is like domino's pizza yeah ill eat it if i'm hungry and i don't feel like cooking but i'm well aware it tastes like crap 3 stars meh</td>\n",
              "      <td>__label__neg not even the beatles could write songs everyone liked and although walter hill is no moptop he's second to none when it comes to thought provoking action movies the nineties came and social platforms were changing in music and film the emergence of the rapper turned movie star was in full swing the acting took a back seat to each man's overpowering regional accent and transparent acting this was one of the many icet movies i saw as a kid and loved only to watch them later and cringe bill paxton and william sadler are firemen with basic lives until a burning building tenant about to go up in flames hands over a map with gold implications i hand it to walter for quickly and neatly setting up the main characters and location but i fault everyone involved for turning out lameo performances icet and cube must have been red hot at this time and while i've enjoyed both their careers as rappers in my opinion they fell flat in this movie it's about ninety minutes of one guy ridiculously turning his back on the other guy to the point you find yourself locked in multiple states of disbelief now this is a movie its not a documentary so i wont waste my time recounting all the stupid plot twists in this movie but there were many and they led nowhere i got the feeling watching this that everyone on set was sord of confused and just playing things off the cuff there are two things i still enjoy about it one involves a scene with a needle and the other is sadler's huge 45 pistol bottom line this movie is like domino's pizza yeah ill eat it if i'm hungry and i don't feel like cooking but i'm well aware it tastes like crap 3 stars meh</td>\n",
              "    </tr>\n",
              "    <tr>\n",
              "      <th>4</th>\n",
              "      <td>Brass pictures (movies is not a fitting word for them) really are somewhat brassy. Their alluring visual qualities are reminiscent of expensive high class TV commercials. But unfortunately Brass pictures are feature films with the pretense of wanting to entertain viewers for over two hours! In this they fail miserably, their undeniable, but rather soft and flabby than steamy, erotic qualities non withstanding.&lt;br /&gt;&lt;br /&gt;Senso '45 is a remake of a film by Luchino Visconti with the same title and Alida Valli and Farley Granger in the lead. The original tells a story of senseless love and lust in and around Venice during the Italian wars of independence. Brass moved the action from the 19th into the 20th century, 1945 to be exact, so there are Mussolini murals, men in black shirts, German uniforms or the tattered garb of the partisans. But it is just window dressing, the historic context is completely negligible.&lt;br /&gt;&lt;br /&gt;Anna Galiena plays the attractive aristocratic woman who falls for the amoral SS guy who always puts on too much lipstick. She is an attractive, versatile, well trained Italian actress and clearly above the material. Her wide range of facial expressions (signalling boredom, loathing, delight, fear, hate ... and ecstasy) are the best reason to watch this picture and worth two stars. She endures this basically trashy stuff with an astonishing amount of dignity. I wish some really good parts come along for her. She really deserves it.</td>\n",
              "      <td>neg</td>\n",
              "      <td>brass pictures movies is not a fitting word for them really are somewhat brassy their alluring visual qualities are reminiscent of expensive high class tv commercials but unfortunately brass pictures are feature films with the pretense of wanting to entertain viewers for over two hours in this they fail miserably their undeniable but rather soft and flabby than steamy erotic qualities non withstandingbr br senso '45 is a remake of a film by luchino visconti with the same title and alida valli and farley granger in the lead the original tells a story of senseless love and lust in and around venice during the italian wars of independence brass moved the action from the 19th into the 20th century 1945 to be exact so there are mussolini murals men in black shirts german uniforms or the tattered garb of the partisans but it is just window dressing the historic context is completely negligiblebr br anna galiena plays the attractive aristocratic woman who falls for the amoral ss guy who always puts on too much lipstick she is an attractive versatile well trained italian actress and clearly above the material her wide range of facial expressions signalling boredom loathing delight fear hate and ecstasy are the best reason to watch this picture and worth two stars she endures this basically trashy stuff with an astonishing amount of dignity i wish some really good parts come along for her she really deserves it</td>\n",
              "      <td>__label__neg brass pictures movies is not a fitting word for them really are somewhat brassy their alluring visual qualities are reminiscent of expensive high class tv commercials but unfortunately brass pictures are feature films with the pretense of wanting to entertain viewers for over two hours in this they fail miserably their undeniable but rather soft and flabby than steamy erotic qualities non withstandingbr br senso '45 is a remake of a film by luchino visconti with the same title and alida valli and farley granger in the lead the original tells a story of senseless love and lust in and around venice during the italian wars of independence brass moved the action from the 19th into the 20th century 1945 to be exact so there are mussolini murals men in black shirts german uniforms or the tattered garb of the partisans but it is just window dressing the historic context is completely negligiblebr br anna galiena plays the attractive aristocratic woman who falls for the amoral ss guy who always puts on too much lipstick she is an attractive versatile well trained italian actress and clearly above the material her wide range of facial expressions signalling boredom loathing delight fear hate and ecstasy are the best reason to watch this picture and worth two stars she endures this basically trashy stuff with an astonishing amount of dignity i wish some really good parts come along for her she really deserves it</td>\n",
              "    </tr>\n",
              "  </tbody>\n",
              "</table>\n",
              "</div>\n",
              "    <div class=\"colab-df-buttons\">\n",
              "\n",
              "  <div class=\"colab-df-container\">\n",
              "    <button class=\"colab-df-convert\" onclick=\"convertToInteractive('df-ba0195c2-8880-4fd9-9f8b-cd771feb0709')\"\n",
              "            title=\"Convert this dataframe to an interactive table.\"\n",
              "            style=\"display:none;\">\n",
              "\n",
              "  <svg xmlns=\"http://www.w3.org/2000/svg\" height=\"24px\" viewBox=\"0 -960 960 960\">\n",
              "    <path d=\"M120-120v-720h720v720H120Zm60-500h600v-160H180v160Zm220 220h160v-160H400v160Zm0 220h160v-160H400v160ZM180-400h160v-160H180v160Zm440 0h160v-160H620v160ZM180-180h160v-160H180v160Zm440 0h160v-160H620v160Z\"/>\n",
              "  </svg>\n",
              "    </button>\n",
              "\n",
              "  <style>\n",
              "    .colab-df-container {\n",
              "      display:flex;\n",
              "      gap: 12px;\n",
              "    }\n",
              "\n",
              "    .colab-df-convert {\n",
              "      background-color: #E8F0FE;\n",
              "      border: none;\n",
              "      border-radius: 50%;\n",
              "      cursor: pointer;\n",
              "      display: none;\n",
              "      fill: #1967D2;\n",
              "      height: 32px;\n",
              "      padding: 0 0 0 0;\n",
              "      width: 32px;\n",
              "    }\n",
              "\n",
              "    .colab-df-convert:hover {\n",
              "      background-color: #E2EBFA;\n",
              "      box-shadow: 0px 1px 2px rgba(60, 64, 67, 0.3), 0px 1px 3px 1px rgba(60, 64, 67, 0.15);\n",
              "      fill: #174EA6;\n",
              "    }\n",
              "\n",
              "    .colab-df-buttons div {\n",
              "      margin-bottom: 4px;\n",
              "    }\n",
              "\n",
              "    [theme=dark] .colab-df-convert {\n",
              "      background-color: #3B4455;\n",
              "      fill: #D2E3FC;\n",
              "    }\n",
              "\n",
              "    [theme=dark] .colab-df-convert:hover {\n",
              "      background-color: #434B5C;\n",
              "      box-shadow: 0px 1px 3px 1px rgba(0, 0, 0, 0.15);\n",
              "      filter: drop-shadow(0px 1px 2px rgba(0, 0, 0, 0.3));\n",
              "      fill: #FFFFFF;\n",
              "    }\n",
              "  </style>\n",
              "\n",
              "    <script>\n",
              "      const buttonEl =\n",
              "        document.querySelector('#df-ba0195c2-8880-4fd9-9f8b-cd771feb0709 button.colab-df-convert');\n",
              "      buttonEl.style.display =\n",
              "        google.colab.kernel.accessAllowed ? 'block' : 'none';\n",
              "\n",
              "      async function convertToInteractive(key) {\n",
              "        const element = document.querySelector('#df-ba0195c2-8880-4fd9-9f8b-cd771feb0709');\n",
              "        const dataTable =\n",
              "          await google.colab.kernel.invokeFunction('convertToInteractive',\n",
              "                                                    [key], {});\n",
              "        if (!dataTable) return;\n",
              "\n",
              "        const docLinkHtml = 'Like what you see? Visit the ' +\n",
              "          '<a target=\"_blank\" href=https://colab.research.google.com/notebooks/data_table.ipynb>data table notebook</a>'\n",
              "          + ' to learn more about interactive tables.';\n",
              "        element.innerHTML = '';\n",
              "        dataTable['output_type'] = 'display_data';\n",
              "        await google.colab.output.renderOutput(dataTable, element);\n",
              "        const docLink = document.createElement('div');\n",
              "        docLink.innerHTML = docLinkHtml;\n",
              "        element.appendChild(docLink);\n",
              "      }\n",
              "    </script>\n",
              "  </div>\n",
              "\n",
              "\n",
              "<div id=\"df-8a046bc9-5b24-471a-90de-d4cdb58033a1\">\n",
              "  <button class=\"colab-df-quickchart\" onclick=\"quickchart('df-8a046bc9-5b24-471a-90de-d4cdb58033a1')\"\n",
              "            title=\"Suggest charts\"\n",
              "            style=\"display:none;\">\n",
              "\n",
              "<svg xmlns=\"http://www.w3.org/2000/svg\" height=\"24px\"viewBox=\"0 0 24 24\"\n",
              "     width=\"24px\">\n",
              "    <g>\n",
              "        <path d=\"M19 3H5c-1.1 0-2 .9-2 2v14c0 1.1.9 2 2 2h14c1.1 0 2-.9 2-2V5c0-1.1-.9-2-2-2zM9 17H7v-7h2v7zm4 0h-2V7h2v10zm4 0h-2v-4h2v4z\"/>\n",
              "    </g>\n",
              "</svg>\n",
              "  </button>\n",
              "\n",
              "<style>\n",
              "  .colab-df-quickchart {\n",
              "      --bg-color: #E8F0FE;\n",
              "      --fill-color: #1967D2;\n",
              "      --hover-bg-color: #E2EBFA;\n",
              "      --hover-fill-color: #174EA6;\n",
              "      --disabled-fill-color: #AAA;\n",
              "      --disabled-bg-color: #DDD;\n",
              "  }\n",
              "\n",
              "  [theme=dark] .colab-df-quickchart {\n",
              "      --bg-color: #3B4455;\n",
              "      --fill-color: #D2E3FC;\n",
              "      --hover-bg-color: #434B5C;\n",
              "      --hover-fill-color: #FFFFFF;\n",
              "      --disabled-bg-color: #3B4455;\n",
              "      --disabled-fill-color: #666;\n",
              "  }\n",
              "\n",
              "  .colab-df-quickchart {\n",
              "    background-color: var(--bg-color);\n",
              "    border: none;\n",
              "    border-radius: 50%;\n",
              "    cursor: pointer;\n",
              "    display: none;\n",
              "    fill: var(--fill-color);\n",
              "    height: 32px;\n",
              "    padding: 0;\n",
              "    width: 32px;\n",
              "  }\n",
              "\n",
              "  .colab-df-quickchart:hover {\n",
              "    background-color: var(--hover-bg-color);\n",
              "    box-shadow: 0 1px 2px rgba(60, 64, 67, 0.3), 0 1px 3px 1px rgba(60, 64, 67, 0.15);\n",
              "    fill: var(--button-hover-fill-color);\n",
              "  }\n",
              "\n",
              "  .colab-df-quickchart-complete:disabled,\n",
              "  .colab-df-quickchart-complete:disabled:hover {\n",
              "    background-color: var(--disabled-bg-color);\n",
              "    fill: var(--disabled-fill-color);\n",
              "    box-shadow: none;\n",
              "  }\n",
              "\n",
              "  .colab-df-spinner {\n",
              "    border: 2px solid var(--fill-color);\n",
              "    border-color: transparent;\n",
              "    border-bottom-color: var(--fill-color);\n",
              "    animation:\n",
              "      spin 1s steps(1) infinite;\n",
              "  }\n",
              "\n",
              "  @keyframes spin {\n",
              "    0% {\n",
              "      border-color: transparent;\n",
              "      border-bottom-color: var(--fill-color);\n",
              "      border-left-color: var(--fill-color);\n",
              "    }\n",
              "    20% {\n",
              "      border-color: transparent;\n",
              "      border-left-color: var(--fill-color);\n",
              "      border-top-color: var(--fill-color);\n",
              "    }\n",
              "    30% {\n",
              "      border-color: transparent;\n",
              "      border-left-color: var(--fill-color);\n",
              "      border-top-color: var(--fill-color);\n",
              "      border-right-color: var(--fill-color);\n",
              "    }\n",
              "    40% {\n",
              "      border-color: transparent;\n",
              "      border-right-color: var(--fill-color);\n",
              "      border-top-color: var(--fill-color);\n",
              "    }\n",
              "    60% {\n",
              "      border-color: transparent;\n",
              "      border-right-color: var(--fill-color);\n",
              "    }\n",
              "    80% {\n",
              "      border-color: transparent;\n",
              "      border-right-color: var(--fill-color);\n",
              "      border-bottom-color: var(--fill-color);\n",
              "    }\n",
              "    90% {\n",
              "      border-color: transparent;\n",
              "      border-bottom-color: var(--fill-color);\n",
              "    }\n",
              "  }\n",
              "</style>\n",
              "\n",
              "  <script>\n",
              "    async function quickchart(key) {\n",
              "      const quickchartButtonEl =\n",
              "        document.querySelector('#' + key + ' button');\n",
              "      quickchartButtonEl.disabled = true;  // To prevent multiple clicks.\n",
              "      quickchartButtonEl.classList.add('colab-df-spinner');\n",
              "      try {\n",
              "        const charts = await google.colab.kernel.invokeFunction(\n",
              "            'suggestCharts', [key], {});\n",
              "      } catch (error) {\n",
              "        console.error('Error during call to suggestCharts:', error);\n",
              "      }\n",
              "      quickchartButtonEl.classList.remove('colab-df-spinner');\n",
              "      quickchartButtonEl.classList.add('colab-df-quickchart-complete');\n",
              "    }\n",
              "    (() => {\n",
              "      let quickchartButtonEl =\n",
              "        document.querySelector('#df-8a046bc9-5b24-471a-90de-d4cdb58033a1 button');\n",
              "      quickchartButtonEl.style.display =\n",
              "        google.colab.kernel.accessAllowed ? 'block' : 'none';\n",
              "    })();\n",
              "  </script>\n",
              "</div>\n",
              "    </div>\n",
              "  </div>\n"
            ],
            "application/vnd.google.colaboratory.intrinsic+json": {
              "type": "dataframe",
              "variable_name": "df",
              "summary": "{\n  \"name\": \"df\",\n  \"rows\": 50000,\n  \"fields\": [\n    {\n      \"column\": \"review\",\n      \"properties\": {\n        \"dtype\": \"string\",\n        \"num_unique_values\": 49582,\n        \"samples\": [\n          \"Only reason I have seen 101 Dalmatians was its nominations for original song and costume design for the Oscars. I must admit that I was less than impressed with this film. In this sequel, Cruella DeVil(by the way Glen Close pulls off this role very well) is released from the hospital due to her good behaviour. She likes all sort of animals and locks all her furs away. From that point, we only wait until she starts having crises. Soon enough, she does and tries to make the best coat of fashion world, of course for herself and from fine Dalmatian fur. Apart from Glen Close, I found all cast quite silly but from a child's eye funny. That is fair enough as its target market is, I assume, children under 12. Quite a good entertainment for children and families, but didn't do much for me. * out of *****\",\n          \"Alain Chabat claims this movie as his original idea but the theme of reluctant lovers who finally get it together is as old, if not older, than Shakespeare.<br /><br />Chabat is a \\\"vieux garcon\\\", happily single and not wanting any member of the opposite sex to disturb his life. He has a problem, 5 sisters and a matriarchal mum - the G7 - who decide he should be married. Enter the delightful, charming Charlotte Gainsbourg and what should be a simple plan. Charlotte has to pose as Chabat's girlfriend and then simply not turn up on the day of the wedding. No more talk of marriage from the G7. Of course the best laid plans have a habit of spiralling out of control.<br /><br />There are very strong supporting roles from Lafont as the mother and Osterman as the tight-fisted brother of Gainsbourg.<br /><br />There are some fantastic scenes as first Charlotte has to charm, then revolt the family. French farce with an English.\",\n          \"I kind of liked The Lonely Lady. Give Pia a break. She looks great and she has really nice eyes. What's not to like? The scene where she gets raped by Ray Liotta with a garden hose was kind of gross and cruel. Actually, a LOT of stuff that happens in this movie is gross and cruel. But its a trashy movie. A lot of movies that are trashy are not all bad. I liked this better than Valley of the Dolls, which was not only trashy but boring as well. At least this wasn't boring.<br /><br />Pia gets naked a lot and seems miscast as a writer. Watching her talk about Pushkin and Byron with a guy three times her age is flat unbelievable. I'm sure Pia's a nice person in real life, she just doesn't project the writer vibe. She looked much happier when she was working as a hostess for that guy from Saturday Night Fever and wearing a glittery disco dress.<br /><br />A couple of the scenes are funny. The one where she tells the two-timing actor that she's pregnant and he rolls his eyes and snaps at her to \\\"stop hanging around!\\\", all the while he's practically fawning over every bimbo who flounces by.<br /><br />Pia's nervous breakdown scene is good. It was probably a mistake to go so supernova on it (the vortex of floating faces and freeze-frame scream - whoa!) and her subsequent catatonic stupor is kind of overdone.<br /><br />The acceptance speech is a hoot, though. I want to see someone do that speech in a drama class.<br /><br />But, again, this is trash we're talking about. You could find worse on any movie of the week back in the eighties.\"\n        ],\n        \"semantic_type\": \"\",\n        \"description\": \"\"\n      }\n    },\n    {\n      \"column\": \"label\",\n      \"properties\": {\n        \"dtype\": \"category\",\n        \"num_unique_values\": 2,\n        \"samples\": [\n          \"pos\",\n          \"neg\"\n        ],\n        \"semantic_type\": \"\",\n        \"description\": \"\"\n      }\n    },\n    {\n      \"column\": \"processed_review\",\n      \"properties\": {\n        \"dtype\": \"string\",\n        \"num_unique_values\": 49581,\n        \"samples\": [\n          \"this is one of the first independent movies i've ever seen for such a very low budget it was done well as an insomniac myself i can sympathize with the main character although my sleeping problems have never been as intense or as disturbing br br well directed well acted of a subject that i haven't seen much in theaters lighting and set both perfect for the movie setting there are few noticeable goofs but they may be intended you'll see after you watch the movie the movie is very personal and worth watching twice no movie is flawless but a hollywood version couldn't do the story better all in all 810\",\n          \"we rented the dvd hoping for a good western the film was pretty and the scenes reasonable but the ideas were very bad here are my problems with the filmbr br in the first part why exactly did the bad guy kill the mine owner not really connected to the movie except to establish how bad he was and to have a hideoutbr br the bank employee gone bad just acts too poorly to convincingly decide to hire killers to off his employers at least keep us guessing no character developed at all for the bank owners or the bank employeebr br very long delay in much of anything happeningbr br absurd premise that martin still needed to see the judge after the gang confessed to killing the inlaws even more absurd that he confesses to judge and judge will not listen to the sheriff guy even more ridiculous that martin his hung and rope breaks then the sheriff takes him at gunpoint to finally head back to his town and save his wife from the bad bank employee wouldn't he just return after the quick dispatch of the gang to save wife and arrest bad bank guy just send the judge a note that gang confessed before being killed on trail overall very sad acting and no point to movie\"\n        ],\n        \"semantic_type\": \"\",\n        \"description\": \"\"\n      }\n    },\n    {\n      \"column\": \"final_data\",\n      \"properties\": {\n        \"dtype\": \"string\",\n        \"num_unique_values\": 49581,\n        \"samples\": [\n          \"__label__pos this is one of the first independent movies i've ever seen for such a very low budget it was done well as an insomniac myself i can sympathize with the main character although my sleeping problems have never been as intense or as disturbing br br well directed well acted of a subject that i haven't seen much in theaters lighting and set both perfect for the movie setting there are few noticeable goofs but they may be intended you'll see after you watch the movie the movie is very personal and worth watching twice no movie is flawless but a hollywood version couldn't do the story better all in all 810\",\n          \"__label__neg we rented the dvd hoping for a good western the film was pretty and the scenes reasonable but the ideas were very bad here are my problems with the filmbr br in the first part why exactly did the bad guy kill the mine owner not really connected to the movie except to establish how bad he was and to have a hideoutbr br the bank employee gone bad just acts too poorly to convincingly decide to hire killers to off his employers at least keep us guessing no character developed at all for the bank owners or the bank employeebr br very long delay in much of anything happeningbr br absurd premise that martin still needed to see the judge after the gang confessed to killing the inlaws even more absurd that he confesses to judge and judge will not listen to the sheriff guy even more ridiculous that martin his hung and rope breaks then the sheriff takes him at gunpoint to finally head back to his town and save his wife from the bad bank employee wouldn't he just return after the quick dispatch of the gang to save wife and arrest bad bank guy just send the judge a note that gang confessed before being killed on trail overall very sad acting and no point to movie\"\n        ],\n        \"semantic_type\": \"\",\n        \"description\": \"\"\n      }\n    }\n  ]\n}"
            }
          },
          "metadata": {},
          "execution_count": 43
        }
      ]
    },
    {
      "cell_type": "code",
      "source": [
        "df.shape"
      ],
      "metadata": {
        "colab": {
          "base_uri": "https://localhost:8080/"
        },
        "id": "ML-wJPxGQdRI",
        "outputId": "9854efc2-e8ce-4ef2-bcc9-04bbee5fe63b"
      },
      "execution_count": 44,
      "outputs": [
        {
          "output_type": "execute_result",
          "data": {
            "text/plain": [
              "(50000, 4)"
            ]
          },
          "metadata": {},
          "execution_count": 44
        }
      ]
    },
    {
      "cell_type": "code",
      "source": [
        "from sklearn.model_selection import train_test_split\n",
        "train, test = train_test_split(df, test_size=0.3)"
      ],
      "metadata": {
        "id": "9AL3v3MzP9A9"
      },
      "execution_count": 45,
      "outputs": []
    },
    {
      "cell_type": "code",
      "source": [
        "display(train.shape)\n",
        "display(test.shape)"
      ],
      "metadata": {
        "colab": {
          "base_uri": "https://localhost:8080/",
          "height": 53
        },
        "id": "aexp9_7fQnWs",
        "outputId": "aa5b705d-ca0a-42d7-fc37-2062306b7b51"
      },
      "execution_count": 46,
      "outputs": [
        {
          "output_type": "display_data",
          "data": {
            "text/plain": [
              "(35000, 4)"
            ]
          },
          "metadata": {}
        },
        {
          "output_type": "display_data",
          "data": {
            "text/plain": [
              "(15000, 4)"
            ]
          },
          "metadata": {}
        }
      ]
    },
    {
      "cell_type": "code",
      "source": [
        "train.to_csv(r\"/content/sample_data/train_reviews.csv\",columns=['final_data'],index=False,header=False)\n",
        "test.to_csv(r\"/content/sample_data/test_reviews.csv\",columns=['final_data'],index=False,header=False)"
      ],
      "metadata": {
        "id": "XoobiLmURwtT"
      },
      "execution_count": 47,
      "outputs": []
    },
    {
      "cell_type": "code",
      "source": [
        "myModel = fasttext.train_supervised(input=r\"/content/sample_data/train_reviews.csv\")"
      ],
      "metadata": {
        "id": "UUwsnYQ7Q9v5"
      },
      "execution_count": 48,
      "outputs": []
    },
    {
      "cell_type": "code",
      "source": [
        "myModel.test(r\"/content/sample_data/test_reviews.csv\")"
      ],
      "metadata": {
        "colab": {
          "base_uri": "https://localhost:8080/"
        },
        "id": "KKuIp-QiSFYU",
        "outputId": "f57696de-1319-4f65-87df-26abf62ab453"
      },
      "execution_count": 49,
      "outputs": [
        {
          "output_type": "execute_result",
          "data": {
            "text/plain": [
              "(15000, 0.8864, 0.8864)"
            ]
          },
          "metadata": {},
          "execution_count": 49
        }
      ]
    },
    {
      "cell_type": "markdown",
      "source": [
        "#Checking the review had positive/negative value\n",
        "*   label__neg = negative\n",
        "*   label_pos = positif\n",
        "\n",
        "\n",
        "\n"
      ],
      "metadata": {
        "id": "Bo5CBS0KS5su"
      }
    },
    {
      "cell_type": "code",
      "source": [
        "myModel.predict(\"This fucking laptop doesn’t even have active cooling… give me my money back!\")"
      ],
      "metadata": {
        "colab": {
          "base_uri": "https://localhost:8080/"
        },
        "id": "lOQOf11kSIvc",
        "outputId": "72038ea2-6a54-4f94-9085-4d08db7c4a0f"
      },
      "execution_count": 60,
      "outputs": [
        {
          "output_type": "execute_result",
          "data": {
            "text/plain": [
              "(('__label__neg',), array([0.99998558]))"
            ]
          },
          "metadata": {},
          "execution_count": 60
        }
      ]
    },
    {
      "cell_type": "code",
      "source": [
        "myModel.predict(\"The 13.6-inch Liquid Retina display delivers stunning visuals with vibrant colors and sharp details.\")"
      ],
      "metadata": {
        "colab": {
          "base_uri": "https://localhost:8080/"
        },
        "id": "7T4oE4AiUJYT",
        "outputId": "c3489d92-a2c6-4ea3-eb42-d366ecac350e"
      },
      "execution_count": 58,
      "outputs": [
        {
          "output_type": "execute_result",
          "data": {
            "text/plain": [
              "(('__label__pos',), array([1.00000346]))"
            ]
          },
          "metadata": {},
          "execution_count": 58
        }
      ]
    },
    {
      "cell_type": "code",
      "source": [
        "myModel.predict(\"this product ugly as fuck\")"
      ],
      "metadata": {
        "colab": {
          "base_uri": "https://localhost:8080/"
        },
        "id": "7icNJRVJUQ77",
        "outputId": "5e29a7a0-4b86-441b-e306-7d4a6c04006d"
      },
      "execution_count": 59,
      "outputs": [
        {
          "output_type": "execute_result",
          "data": {
            "text/plain": [
              "(('__label__neg',), array([0.99952996]))"
            ]
          },
          "metadata": {},
          "execution_count": 59
        }
      ]
    },
    {
      "cell_type": "code",
      "source": [
        "myModel.predict(\"I liked the slender form and low weight. I just worried it would not do what I needed it to do.\")"
      ],
      "metadata": {
        "colab": {
          "base_uri": "https://localhost:8080/"
        },
        "id": "ReReOWWxUcEP",
        "outputId": "da844e45-dd36-4fe7-ab8f-dea28e4dbef7"
      },
      "execution_count": 61,
      "outputs": [
        {
          "output_type": "execute_result",
          "data": {
            "text/plain": [
              "(('__label__pos',), array([0.53834498]))"
            ]
          },
          "metadata": {},
          "execution_count": 61
        }
      ]
    }
  ]
}
