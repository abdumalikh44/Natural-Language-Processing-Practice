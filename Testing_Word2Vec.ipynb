{
  "nbformat": 4,
  "nbformat_minor": 0,
  "metadata": {
    "colab": {
      "provenance": [],
      "authorship_tag": "ABX9TyMAErCPwwwwgsQJf7OvbLC2",
      "include_colab_link": true
    },
    "kernelspec": {
      "name": "python3",
      "display_name": "Python 3"
    },
    "language_info": {
      "name": "python"
    }
  },
  "cells": [
    {
      "cell_type": "markdown",
      "metadata": {
        "id": "view-in-github",
        "colab_type": "text"
      },
      "source": [
        "<a href=\"https://colab.research.google.com/github/abdumalikh44/Natural-Language-Processing-Practice/blob/main/Testing_Word2Vec.ipynb\" target=\"_parent\"><img src=\"https://colab.research.google.com/assets/colab-badge.svg\" alt=\"Open In Colab\"/></a>"
      ]
    },
    {
      "cell_type": "code",
      "execution_count": 1,
      "metadata": {
        "id": "CbjXPtVBUVyK"
      },
      "outputs": [],
      "source": [
        "import gensim"
      ]
    },
    {
      "cell_type": "code",
      "source": [
        "doc = ['she looks awesome'\n",
        "       ,'she looks awful'\n",
        "       ,'she looks amazing']"
      ],
      "metadata": {
        "id": "7EfnVBHfUgk-"
      },
      "execution_count": 2,
      "outputs": []
    },
    {
      "cell_type": "code",
      "source": [
        "doc_processed = []\n",
        "for i in doc:\n",
        "  doc_processed.append(gensim.utils.simple_preprocess(i))"
      ],
      "metadata": {
        "id": "R6YcqB6HU31O"
      },
      "execution_count": 3,
      "outputs": []
    },
    {
      "cell_type": "code",
      "source": [
        "doc_processed"
      ],
      "metadata": {
        "colab": {
          "base_uri": "https://localhost:8080/"
        },
        "id": "fCO_1V0bVL7_",
        "outputId": "c99e5593-84c4-4167-ab64-744487071ff0"
      },
      "execution_count": 4,
      "outputs": [
        {
          "output_type": "execute_result",
          "data": {
            "text/plain": [
              "[['she', 'looks', 'awesome'],\n",
              " ['she', 'looks', 'awful'],\n",
              " ['she', 'looks', 'amazing']]"
            ]
          },
          "metadata": {},
          "execution_count": 4
        }
      ]
    },
    {
      "cell_type": "code",
      "source": [
        "w2v = gensim.models.Word2Vec(window=2, min_count=1)"
      ],
      "metadata": {
        "id": "Zth7fBchVaLE"
      },
      "execution_count": 5,
      "outputs": []
    },
    {
      "cell_type": "code",
      "source": [
        "w2v.build_vocab(doc_processed, progress_per=10)"
      ],
      "metadata": {
        "id": "8dYbv59DWASs"
      },
      "execution_count": 7,
      "outputs": []
    },
    {
      "cell_type": "code",
      "source": [
        "print(w2v.wv.index_to_key)"
      ],
      "metadata": {
        "colab": {
          "base_uri": "https://localhost:8080/"
        },
        "id": "S7C2kCFSWIL6",
        "outputId": "d896e6c7-f517-4968-d21c-b35ef7878dbc"
      },
      "execution_count": 9,
      "outputs": [
        {
          "output_type": "stream",
          "name": "stdout",
          "text": [
            "['looks', 'she', 'amazing', 'awful', 'awesome']\n"
          ]
        }
      ]
    },
    {
      "cell_type": "code",
      "source": [
        "w2v.corpus_count"
      ],
      "metadata": {
        "colab": {
          "base_uri": "https://localhost:8080/"
        },
        "id": "oKfGwPZKWOnC",
        "outputId": "8967e4e1-f1d3-4758-ad70-c7d9c40bc997"
      },
      "execution_count": 10,
      "outputs": [
        {
          "output_type": "execute_result",
          "data": {
            "text/plain": [
              "3"
            ]
          },
          "metadata": {},
          "execution_count": 10
        }
      ]
    },
    {
      "cell_type": "code",
      "source": [
        "from gensim.models import Word2Vec\n",
        "\n",
        "w2v_model = Word2Vec(sentences=doc_processed, vector_size=100, window=5, min_count=1, workers=4)\n",
        "\n",
        "# Training the Word2Vec model\n",
        "w2v_model.train(doc_processed, total_examples=len(doc_processed), epochs=10)\n"
      ],
      "metadata": {
        "colab": {
          "base_uri": "https://localhost:8080/"
        },
        "id": "fvj0EPzwXlzk",
        "outputId": "389749b5-373e-44b5-8663-6c3283a63640"
      },
      "execution_count": 14,
      "outputs": [
        {
          "output_type": "stream",
          "name": "stderr",
          "text": [
            "WARNING:gensim.models.word2vec:Effective 'alpha' higher than previous training cycles\n"
          ]
        },
        {
          "output_type": "execute_result",
          "data": {
            "text/plain": [
              "(8, 90)"
            ]
          },
          "metadata": {},
          "execution_count": 14
        }
      ]
    },
    {
      "cell_type": "code",
      "source": [
        "w2v.wv.most_similar('amazing')"
      ],
      "metadata": {
        "colab": {
          "base_uri": "https://localhost:8080/"
        },
        "id": "9H5_dDoTXFOj",
        "outputId": "925e4fac-06e9-4467-953c-e6bcde4b31f9"
      },
      "execution_count": 17,
      "outputs": [
        {
          "output_type": "execute_result",
          "data": {
            "text/plain": [
              "[('awesome', 0.17018885910511017),\n",
              " ('awful', -0.013514922931790352),\n",
              " ('she', -0.023671654984354973),\n",
              " ('looks', -0.05234673619270325)]"
            ]
          },
          "metadata": {},
          "execution_count": 17
        }
      ]
    },
    {
      "cell_type": "code",
      "source": [
        "w2v.wv.most_similar('awesome')"
      ],
      "metadata": {
        "colab": {
          "base_uri": "https://localhost:8080/"
        },
        "id": "tVcnLIGaYrm1",
        "outputId": "e6738af0-df09-4e7b-dd3a-a1579d7ecee6"
      },
      "execution_count": 20,
      "outputs": [
        {
          "output_type": "execute_result",
          "data": {
            "text/plain": [
              "[('amazing', 0.17018885910511017),\n",
              " ('she', 0.004503022879362106),\n",
              " ('looks', -0.027750348672270775),\n",
              " ('awful', -0.04461711645126343)]"
            ]
          },
          "metadata": {},
          "execution_count": 20
        }
      ]
    },
    {
      "cell_type": "code",
      "source": [
        "w2v.wv.most_similar('awful')"
      ],
      "metadata": {
        "colab": {
          "base_uri": "https://localhost:8080/"
        },
        "id": "UDb6l-V2Yvnv",
        "outputId": "45c1c255-13b5-4f9b-88bd-4d70dbcc12c5"
      },
      "execution_count": 21,
      "outputs": [
        {
          "output_type": "execute_result",
          "data": {
            "text/plain": [
              "[('she', 0.06797593086957932),\n",
              " ('amazing', -0.013514931313693523),\n",
              " ('awesome', -0.044617097824811935),\n",
              " ('looks', -0.1116705983877182)]"
            ]
          },
          "metadata": {},
          "execution_count": 21
        }
      ]
    },
    {
      "cell_type": "code",
      "source": [
        "w2v.wv.similarity(\"awesome\", \"she\")"
      ],
      "metadata": {
        "colab": {
          "base_uri": "https://localhost:8080/"
        },
        "id": "FOYommsXYZPz",
        "outputId": "b925da93-2c43-48e6-fa5b-68370f5dd59a"
      },
      "execution_count": 19,
      "outputs": [
        {
          "output_type": "execute_result",
          "data": {
            "text/plain": [
              "0.0045030187"
            ]
          },
          "metadata": {},
          "execution_count": 19
        }
      ]
    },
    {
      "cell_type": "code",
      "source": [
        "w2v.wv.similarity(\"awful\", \"she\")"
      ],
      "metadata": {
        "colab": {
          "base_uri": "https://localhost:8080/"
        },
        "id": "CGslExhfYn_h",
        "outputId": "59536734-2c92-4a46-a082-a80dde399920"
      },
      "execution_count": 22,
      "outputs": [
        {
          "output_type": "execute_result",
          "data": {
            "text/plain": [
              "0.06797595"
            ]
          },
          "metadata": {},
          "execution_count": 22
        }
      ]
    },
    {
      "cell_type": "code",
      "source": [
        "w2v.wv.similarity(\"amazing\", \"she\")"
      ],
      "metadata": {
        "colab": {
          "base_uri": "https://localhost:8080/"
        },
        "id": "7aOJT8spY5NK",
        "outputId": "0c8ac709-6afc-42ac-ead9-204ba0be14c5"
      },
      "execution_count": 23,
      "outputs": [
        {
          "output_type": "execute_result",
          "data": {
            "text/plain": [
              "-0.02367166"
            ]
          },
          "metadata": {},
          "execution_count": 23
        }
      ]
    },
    {
      "cell_type": "code",
      "source": [
        "!mkdir -p ~/.kaggle\n",
        "!cp kaggle.json ~/.kaggle/"
      ],
      "metadata": {
        "id": "EBKL8SQSZw1l"
      },
      "execution_count": 27,
      "outputs": []
    },
    {
      "cell_type": "markdown",
      "source": [
        "Retrieve Data from Kaggle"
      ],
      "metadata": {
        "id": "8rIegleoc6Mi"
      }
    },
    {
      "cell_type": "code",
      "source": [
        "!kaggle datasets download -d leadbest/googlenewsvectorsnegative300"
      ],
      "metadata": {
        "colab": {
          "base_uri": "https://localhost:8080/"
        },
        "id": "RlF0wnnSbVpZ",
        "outputId": "78ff8b0f-7107-42ad-f975-575ac5b40c94"
      },
      "execution_count": 29,
      "outputs": [
        {
          "output_type": "stream",
          "name": "stdout",
          "text": [
            "Warning: Your Kaggle API key is readable by other users on this system! To fix this, you can run 'chmod 600 /root/.kaggle/kaggle.json'\n",
            "Downloading googlenewsvectorsnegative300.zip to /content\n",
            "100% 3.17G/3.17G [00:40<00:00, 116MB/s]\n",
            "100% 3.17G/3.17G [00:40<00:00, 84.7MB/s]\n"
          ]
        }
      ]
    },
    {
      "cell_type": "code",
      "source": [
        "import zipfile\n",
        "zip_ref = zipfile.ZipFile('/content/googlenewsvectorsnegative300.zip', 'r')\n",
        "zip_ref.extractall('/content')\n",
        "zip_ref.close()"
      ],
      "metadata": {
        "id": "WHqx0SW1bhqD"
      },
      "execution_count": 33,
      "outputs": []
    },
    {
      "cell_type": "markdown",
      "source": [
        "Train the Model"
      ],
      "metadata": {
        "id": "zwUXoxxSdGOu"
      }
    },
    {
      "cell_type": "code",
      "source": [
        "from gensim.models import KeyedVectors"
      ],
      "metadata": {
        "id": "rjWTCSxidhhl"
      },
      "execution_count": 35,
      "outputs": []
    },
    {
      "cell_type": "code",
      "source": [
        "preTrained = KeyedVectors.load_word2vec_format(r\"/content/GoogleNews-vectors-negative300.bin\", binary=True)"
      ],
      "metadata": {
        "id": "5P3e8Sywchrv"
      },
      "execution_count": 36,
      "outputs": []
    },
    {
      "cell_type": "code",
      "source": [
        "preTrained.most_similar('awesome')"
      ],
      "metadata": {
        "colab": {
          "base_uri": "https://localhost:8080/"
        },
        "id": "bKhIQPXud_qQ",
        "outputId": "138e7495-31c2-4a0c-8d98-e4916a3590dd"
      },
      "execution_count": 41,
      "outputs": [
        {
          "output_type": "execute_result",
          "data": {
            "text/plain": [
              "[('amazing', 0.8282866477966309),\n",
              " ('unbelievable', 0.74649578332901),\n",
              " ('fantastic', 0.7453290224075317),\n",
              " ('incredible', 0.7390913367271423),\n",
              " ('unbelieveable', 0.6678116917610168),\n",
              " ('terrific', 0.654850423336029),\n",
              " ('wonderful', 0.6525596380233765),\n",
              " ('great', 0.6510506868362427),\n",
              " ('fabulous', 0.6416462659835815),\n",
              " ('nice', 0.6404187679290771)]"
            ]
          },
          "metadata": {},
          "execution_count": 41
        }
      ]
    },
    {
      "cell_type": "code",
      "source": [
        "preTrained.most_similar('amazing')"
      ],
      "metadata": {
        "colab": {
          "base_uri": "https://localhost:8080/"
        },
        "id": "AfsXENCoeIPO",
        "outputId": "140bfdd4-4a0d-46dc-8999-99f24489c63f"
      },
      "execution_count": 42,
      "outputs": [
        {
          "output_type": "execute_result",
          "data": {
            "text/plain": [
              "[('incredible', 0.9054000377655029),\n",
              " ('awesome', 0.8282865285873413),\n",
              " ('unbelievable', 0.820126473903656),\n",
              " ('fantastic', 0.7789871096611023),\n",
              " ('phenomenal', 0.7642048001289368),\n",
              " ('astounding', 0.7347069382667542),\n",
              " ('wonderful', 0.7263179421424866),\n",
              " ('unbelieveable', 0.7165080904960632),\n",
              " ('remarkable', 0.7095626592636108),\n",
              " ('marvelous', 0.7015582323074341)]"
            ]
          },
          "metadata": {},
          "execution_count": 42
        }
      ]
    },
    {
      "cell_type": "code",
      "source": [
        "preTrained.most_similar('fortnight')"
      ],
      "metadata": {
        "colab": {
          "base_uri": "https://localhost:8080/"
        },
        "id": "yO3O8xhqeEjj",
        "outputId": "18c576d6-c94e-41ad-d452-e0b9e8e1251d"
      },
      "execution_count": 43,
      "outputs": [
        {
          "output_type": "execute_result",
          "data": {
            "text/plain": [
              "[('weeks', 0.6077049374580383),\n",
              " ('week', 0.5989331007003784),\n",
              " ('month', 0.5515623688697815),\n",
              " ('fornight', 0.5387061238288879),\n",
              " ('months', 0.5258229970932007),\n",
              " ('weekend', 0.5024309754371643),\n",
              " ('days', 0.4975105822086334),\n",
              " ('fortnights', 0.48440760374069214),\n",
              " ('rupturing_cruciate_ligament', 0.4675520062446594),\n",
              " ('Stebonheath_Park', 0.4591194987297058)]"
            ]
          },
          "metadata": {},
          "execution_count": 43
        }
      ]
    },
    {
      "cell_type": "code",
      "source": [
        "preTrained.most_similar('awful')"
      ],
      "metadata": {
        "colab": {
          "base_uri": "https://localhost:8080/"
        },
        "id": "5KhmMtAyePbb",
        "outputId": "22cc50c4-7e60-4937-b07b-54cdfd71b499"
      },
      "execution_count": 45,
      "outputs": [
        {
          "output_type": "execute_result",
          "data": {
            "text/plain": [
              "[('horrible', 0.7597668170928955),\n",
              " ('terrible', 0.7478912472724915),\n",
              " ('dreadful', 0.7218177914619446),\n",
              " ('horrendous', 0.6970030069351196),\n",
              " ('horrid', 0.6720177531242371),\n",
              " ('atrocious', 0.6626645922660828),\n",
              " ('ugly', 0.6236302256584167),\n",
              " ('lousy', 0.6135217547416687),\n",
              " ('god_awful', 0.6096222400665283),\n",
              " ('abysmal', 0.6076565384864807)]"
            ]
          },
          "metadata": {},
          "execution_count": 45
        }
      ]
    },
    {
      "cell_type": "code",
      "source": [
        "preTrained.similarity(\"opportunity\", \"technical\")"
      ],
      "metadata": {
        "colab": {
          "base_uri": "https://localhost:8080/"
        },
        "id": "xIPWVEgieeUO",
        "outputId": "77a3ccfb-d17a-47f1-9553-69652fb35173"
      },
      "execution_count": 46,
      "outputs": [
        {
          "output_type": "execute_result",
          "data": {
            "text/plain": [
              "0.08744432"
            ]
          },
          "metadata": {},
          "execution_count": 46
        }
      ]
    },
    {
      "cell_type": "code",
      "source": [
        "preTrained.similarity(\"football\", \"fifa\")"
      ],
      "metadata": {
        "colab": {
          "base_uri": "https://localhost:8080/"
        },
        "id": "1mP5bgTpesg5",
        "outputId": "0254693a-6e6e-4202-e971-048807fe258e"
      },
      "execution_count": 47,
      "outputs": [
        {
          "output_type": "execute_result",
          "data": {
            "text/plain": [
              "0.3232931"
            ]
          },
          "metadata": {},
          "execution_count": 47
        }
      ]
    },
    {
      "cell_type": "code",
      "source": [],
      "metadata": {
        "id": "H2evP2kwe_-H"
      },
      "execution_count": null,
      "outputs": []
    }
  ]
}